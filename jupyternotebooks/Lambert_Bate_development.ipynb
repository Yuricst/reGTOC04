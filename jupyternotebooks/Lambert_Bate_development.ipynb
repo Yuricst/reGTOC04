{
 "cells": [
  {
   "cell_type": "markdown",
   "metadata": {},
   "source": [
    "# Development script for Lambert problem solver via Universal Variables\n",
    "\n",
    "Formulation follows Curtis Chapter 5.3 Lambert's Problem pg.247-\n",
    "\n",
    "Originally derived in Bate, Mueller, White (1971) Fundamentals of Astronautics\n",
    "\n",
    "Python implementation by Yuri Shimane"
   ]
  },
  {
   "cell_type": "code",
   "execution_count": 1,
   "metadata": {},
   "outputs": [],
   "source": [
    "import numpy as np\n",
    "import scipy.optimize as opt\n",
    "import matplotlib\n",
    "import matplotlib.pyplot as plt\n",
    "from numpy import linalg as linalg\n",
    "from numpy.linalg import norm"
   ]
  },
  {
   "cell_type": "code",
   "execution_count": 2,
   "metadata": {},
   "outputs": [],
   "source": [
    "# define functions that will be used repeatedly in iterative solving step\n",
    "def _Stumpff_S(z):\n",
    "    \"\"\"\n",
    "    Stumpff function S(z)\n",
    "    Args:\n",
    "        z (float): universal anomaly^2/semi-major axis of transfer trajectory\n",
    "    Returns:\n",
    "        (float): value of Stumpff functio S(z) evaluated for input z\n",
    "    \"\"\"\n",
    "    if z > 0:\n",
    "        S = (np.sqrt(z) - np.sin(np.sqrt(z)))/np.power(z,1.5)\n",
    "    elif z == 0:\n",
    "        S = 1/6\n",
    "    elif z < 0:\n",
    "        S = (np.sinh(np.sqrt(-z)) - np.sqrt(-z))/np.power(-z,1.5)\n",
    "\n",
    "    return S\n",
    "\n",
    "\n",
    "def _Stumpff_C(z):\n",
    "    \"\"\"\n",
    "    Stumpff function C(z)\n",
    "    Args:\n",
    "        z (float): universal anomaly^2/semi-major axis of transfer trajectory\n",
    "    Returns:\n",
    "        (float): value of Stumpff functio S(z) evaluated for input z\n",
    "    \"\"\"\n",
    "    if z > 0:\n",
    "        C = (1 - np.cos(np.sqrt(z)))/z\n",
    "    elif z == 0:\n",
    "        C = 1/2\n",
    "    elif z < 0:\n",
    "        C = (np.cosh(np.sqrt(-z)) - 1)/(-z)\n",
    "\n",
    "    return C\n",
    "\n",
    "def _y_538(r1,r2,A,z):\n",
    "    \"\"\"\n",
    "    Intermediate function in Lambert problem derivation (eq.5.38 in Curtis)\n",
    "    Args:\n",
    "        r1 (1x3 numpy array): position vector of departure\n",
    "        r2 (1x3 numpy array): position vector of arrival\n",
    "        A (float): intermediate value related only to input parameters\n",
    "        z (float): universal anomaly^2/semi-major axis of transfer trajectory\n",
    "    Returns:\n",
    "        (float): value of function evaluated for input z\n",
    "    \"\"\"\n",
    "\n",
    "    y = norm(r1) + norm(r2) + A*(z*_Stumpff_S(z) - 1)/np.sqrt(_Stumpff_C(z))\n",
    "\n",
    "    return y"
   ]
  },
  {
   "cell_type": "code",
   "execution_count": 12,
   "metadata": {},
   "outputs": [],
   "source": [
    "# Lambert solver\n",
    "def lambert(r1, r2, tof, mu, grade='pro', method=None, **kwargs):\n",
    "    \"\"\"\n",
    "    Function takes in classic parameters to Lambert problem to determine orbitalelements\n",
    "    Args:\n",
    "        r1 (1x3 numpy array): initial position vector of departure [km]\n",
    "        r2 (1x3 numpy array): final position vector of arrival [km]\n",
    "        tof (float): time of flight [s]\n",
    "        mu (float): gravitational parameter [km^3/s^2]\n",
    "        grade (str): trajectory orientation ('pro' for prograde or 'retro' for retrograde)\n",
    "        **kwargs: other arguments for scipy.optimize.root_scalar\n",
    "    Returns:\n",
    "        (tuple): velocity vector at position 1 and 2 of solution trajectory to Lambert problem\n",
    "    \"\"\"\n",
    "    # boundary values of problem\n",
    "    print('========================= LAMBERT\\'S PROBLEM =========================')\n",
    "    print(f'Transfering from r1: {r1} [km] \\n              to r2: {r2} [km] \\nin time of flight: {tof/(60*60*24)} [days]')\n",
    "    print('=====================================================================')\n",
    "\n",
    "    # compute dtheta [rad]\n",
    "    dtheta = np.arccos( np.dot(r1,r2)/(norm(r1)*norm(r2)) )\n",
    "    c12 = np.cross(r1,r2)\n",
    "    \n",
    "    # update dtheta for special cases\n",
    "    if grade=='retro':\n",
    "        if c12[2] >= 0:\n",
    "            dtheta = 2*np.pi - dtheta\n",
    "    else:\n",
    "        if c12[2] <= 0:\n",
    "            dtheta = 2*np.pi - dtheta\n",
    "            \n",
    "    print('dtheta: {}'.format(dtheta*180/(np.pi)))\n",
    "    \n",
    "    # compute input parameter A where A = sin(dtheta) * sqrt[r1*r2 / (1 - cos(dtheta))]\n",
    "    A = np.sin(dtheta) * np.sqrt(norm(r1)*norm(r2)/(1 - np.cos(dtheta)))\n",
    "    \n",
    "    # if A = 0, switch to Hohmann Transfer? - FIXME\n",
    "    if A == 0.0:\n",
    "        raise RuntimeError(f\"Cannot compute orbit, \\Delta\\Theta is {dtheta}\")\n",
    "    print(f'Value of A: {A}')\n",
    "    \n",
    "    # Scipy - NR method scipy.optimize.rootscalar\n",
    "    def residue_Fz(z,r1,r2,A):\n",
    "        \"\"\"Function computes residue of F(z) as defined by Curtis eq. (5.40)\n",
    "        Args:\n",
    "            z (float): value of z at which function F is evaluated\n",
    "            r1 (1x3 numpy array): initial position vector of departure [km]\n",
    "            r2 (1x3 numpy array): final position vector of arrival [km]\n",
    "            A (float): variable A predefined in derivation of solution to Lambert's problem\n",
    "        Returns:\n",
    "            (tuple): tuple containing residue of F computed at z and Fdot eq. (5.43)\n",
    "        \"\"\"\n",
    "        residue = np.power(_y_538(r1,r2,A,z)/_Stumpff_C(z), 3/2) * _Stumpff_S(z) + A*np.sqrt(_y_538(r1,r2,A,z)) - np.sqrt(mu)*tof\n",
    "        \n",
    "        if z == 0:\n",
    "            Fdot = np.sqrt(2) * np.power(_y_538(r1,r2,A,0),1.5)/40 + (A/8)*(np.sqrt(_y_538(r1,r2,A,0)) + A*np.sqrt(1/(2*_y_538(r1,r2,A,0))))\n",
    "        else:\n",
    "            Fdot = np.power(_y_538(r1,r2,A,z)/_Stumpff_C(z), 1.5) * (((1/(2*z)) * (_Stumpff_C(z) - 3*_Stumpff_S(z)/(2*_Stumpff_C(z)))) + 3*np.power(_Stumpff_S(z),2)/(4*_Stumpff_C(z))) + (A/8)*(3*_Stumpff_S(z)*np.sqrt(_y_538(r1,r2,A,z))/_Stumpff_C(z) + A*np.sqrt(_Stumpff_C(z)/_y_538(r1,r2,A,z)))\n",
    "    \n",
    "        return residue, Fdot\n",
    "    \n",
    "    # Scipy - prepare initial conditions to solve iteratively\n",
    "    # FIXME - if orbit is retrograde, override bracket_window to only have positive z-values\n",
    "    #bracket_window = (0.1,5000)\n",
    "    # FIXME - currently, most robust way is to have a relatively good initial guess...\n",
    "    z0 = -10\n",
    "    F0, Fdot0 = residue_Fz(z0,r1,r2,A)\n",
    "    print(f'Initially pre-selected z0: {z0}, where F0 = {F0}')\n",
    "    # if value of F is too big and is NaN, reduce z0 until it isn't\n",
    "    if np.isnan(F0) == True:\n",
    "        while np.isnan(F0) == True:\n",
    "            z0 = z0*0.5\n",
    "            F0, Fdot0 = residue_Fz(z0,r1,r2,A)\n",
    "            print(f'Updated z0: {z0}, where F0 = {F0}')\n",
    "    \n",
    "    if F0 < 0:\n",
    "        while F0 < 0:\n",
    "            z0 = z0 + 1\n",
    "            F0, Fdot0 = residue_Fz(z0,r1,r2,A)\n",
    "    \n",
    "    print(f'Scipy will use {z0} as z0 initial guess')\n",
    "    \n",
    "    # Scipy - solve to find z-value\n",
    "    #sol = opt.root_scalar(residue_Fz, args=(r1,r2,A), fprime=True, bracket=bracket_window, method=method, **kwargs)\n",
    "    sol = opt.root_scalar(residue_Fz, args=(r1,r2,A), fprime=True, x0=z0, method=method, **kwargs)\n",
    "    \n",
    "    if sol.converged:\n",
    "        z1 = sol.root\n",
    "    else:\n",
    "        raise RuntimeError(f'F(z) = 0 calculation failed with initial guess of z {z0}')  # FIXME - document failure\n",
    "    \n",
    "\n",
    "    # display orbit type\n",
    "    if z1 > 0:\n",
    "        print(f'Transfer trajectory is an ellipse; z = {z1}')\n",
    "    elif z1 == 0:\n",
    "        print(f'Transfer trajectory is a parabola; z = {z1}')\n",
    "    elif z1 < 0:\n",
    "        print(f'Transfer trajectory is a hyperbolla; z = {z1}')\n",
    "\n",
    "    # calculate Lagrange functions\n",
    "    f    = 1 - _y_538(r1,r2,A,z1)/norm(r1)\n",
    "    g    = A*np.sqrt(_y_538(r1,r2,A,z1)/mu)\n",
    "    gdot = 1 - _y_538(r1,r2,A,z1)/norm(r2)\n",
    "    print(f'Lagrange functions f: {f}, g: {g}, gdot: {gdot}')\n",
    "\n",
    "    # calculate initial and final velocity vectors\n",
    "    v1 = (1/g)*(r2 - f*r1)\n",
    "    v2 = (1/g)*(gdot*r2 - r1)\n",
    "    print('=========================== SOLUTION ===========================')\n",
    "    print(f'Velocity at r1: {v1} [km/s]\\nvelocity at r2: {v2} [km/s]')\n",
    "    print('================================================================')\n",
    "    return v1, v2\n"
   ]
  },
  {
   "cell_type": "code",
   "execution_count": 13,
   "metadata": {},
   "outputs": [
    {
     "name": "stdout",
     "output_type": "stream",
     "text": [
      "========================= LAMBERT'S PROBLEM =========================\n",
      "Transfering from r1: [ 5000 10000  2100] [km] \n",
      "              to r2: [-14600   2500   7000] [km] \n",
      "in time of flight: 0.05555555555555555 [days]\n",
      "=====================================================================\n",
      "dtheta: 100.29252420729621\n",
      "Value of A: 12372.272033956451\n",
      "Initially pre-selected z0: -10, where F0 = nan\n",
      "Updated z0: -5.0, where F0 = nan\n",
      "Updated z0: -2.5, where F0 = -2081391.8299109235\n",
      "Scipy will use 3.5 as z0 initial guess\n",
      "Transfer trajectory is an ellipse; z = 3.4489639564339423\n",
      "Lagrange functions f: -0.5188925942155815, g: 2575.9433324300862, gdot: -0.05465796566093717\n",
      "=========================== SOLUTION ===========================\n",
      "Velocity at r1: [-4.66063709  2.98489716  3.14047066] [km/s]\n",
      "velocity at r2: [-1.63124462 -3.93511953 -0.96376567] [km/s]\n",
      "================================================================\n"
     ]
    },
    {
     "name": "stderr",
     "output_type": "stream",
     "text": [
      "C:\\Users\\yurio\\Anaconda3\\lib\\site-packages\\ipykernel_launcher.py:53: RuntimeWarning: invalid value encountered in power\n",
      "C:\\Users\\yurio\\Anaconda3\\lib\\site-packages\\ipykernel_launcher.py:53: RuntimeWarning: invalid value encountered in sqrt\n",
      "C:\\Users\\yurio\\Anaconda3\\lib\\site-packages\\ipykernel_launcher.py:58: RuntimeWarning: invalid value encountered in power\n",
      "C:\\Users\\yurio\\Anaconda3\\lib\\site-packages\\ipykernel_launcher.py:58: RuntimeWarning: invalid value encountered in sqrt\n"
     ]
    }
   ],
   "source": [
    "# initial and final position vectors [km]\n",
    "r_in = np.array([5000, 10000, 2100])\n",
    "r_fn = np.array([-14600, 2500, 7000])\n",
    "\n",
    "# time of flight [s]\n",
    "dt = 4800\n",
    "\n",
    "# gravitational parameter [km^3/s^2]\n",
    "mu_E = 398600\n",
    "\n",
    "# solve Lamert problem in prograde\n",
    "v1, v2 = lambert(r1=r_in, r2=r_fn, tof=dt, mu=mu_E, grade='pro')"
   ]
  },
  {
   "cell_type": "code",
   "execution_count": 14,
   "metadata": {},
   "outputs": [
    {
     "name": "stdout",
     "output_type": "stream",
     "text": [
      "========================= LAMBERT'S PROBLEM =========================\n",
      "Transfering from r1: [ 5000 10000  2100] [km] \n",
      "              to r2: [-14600   2500   7000] [km] \n",
      "in time of flight: 0.05555555555555555 [days]\n",
      "=====================================================================\n",
      "dtheta: 100.29252420729621\n",
      "Value of A: 12372.272033956451\n",
      "Initially pre-selected z0: -10, where F0 = nan\n",
      "Updated z0: -5.0, where F0 = nan\n",
      "Updated z0: -2.5, where F0 = -2081391.8299109235\n",
      "Scipy will use 3.5 as z0 initial guess\n",
      "Transfer trajectory is an ellipse; z = 3.4489639564339423\n",
      "Lagrange functions f: -0.5188925942155815, g: 2575.9433324300862, gdot: -0.05465796566093717\n",
      "=========================== SOLUTION ===========================\n",
      "Velocity at r1: [-4.66063709  2.98489716  3.14047066] [km/s]\n",
      "velocity at r2: [-1.63124462 -3.93511953 -0.96376567] [km/s]\n",
      "================================================================\n"
     ]
    },
    {
     "name": "stderr",
     "output_type": "stream",
     "text": [
      "C:\\Users\\yurio\\Anaconda3\\lib\\site-packages\\ipykernel_launcher.py:53: RuntimeWarning: invalid value encountered in power\n",
      "C:\\Users\\yurio\\Anaconda3\\lib\\site-packages\\ipykernel_launcher.py:53: RuntimeWarning: invalid value encountered in sqrt\n",
      "C:\\Users\\yurio\\Anaconda3\\lib\\site-packages\\ipykernel_launcher.py:58: RuntimeWarning: invalid value encountered in power\n",
      "C:\\Users\\yurio\\Anaconda3\\lib\\site-packages\\ipykernel_launcher.py:58: RuntimeWarning: invalid value encountered in sqrt\n"
     ]
    }
   ],
   "source": [
    "# solve Lamert problem in prograde\n",
    "v1, v2 = lambert(r1=r_in, r2=r_fn, tof=dt, mu=mu_E, grade='pro')"
   ]
  },
  {
   "cell_type": "code",
   "execution_count": 15,
   "metadata": {},
   "outputs": [
    {
     "name": "stdout",
     "output_type": "stream",
     "text": [
      "========================= LAMBERT'S PROBLEM =========================\n",
      "Transfering from r1: [ 5000 10000  2100] [km] \n",
      "              to r2: [-14600   2500   7000] [km] \n",
      "in time of flight: 0.05555555555555555 [days]\n",
      "=====================================================================\n",
      "dtheta: 259.70747579270375\n",
      "Value of A: -12372.272033956451\n",
      "Initially pre-selected z0: -10, where F0 = -1669046.4526966834\n",
      "Scipy will use 10 as z0 initial guess\n",
      "Transfer trajectory is an ellipse; z = 9.622734027582846\n",
      "Lagrange functions f: -1.470581086774787, g: -3285.2795382038316, gdot: -0.7154722018537014\n",
      "=========================== SOLUTION ===========================\n",
      "Velocity at r1: [ 2.20592935 -5.2372441  -3.07073421] [km/s]\n",
      "velocity at r2: [-1.65766538  3.58833407  2.16368359] [km/s]\n",
      "================================================================\n"
     ]
    }
   ],
   "source": [
    "# solve Lambert problem in retrograde\n",
    "v1, v2 = lambert(r1=r_in, r2=r_fn, tof=dt, mu=mu_E, grade='retro')"
   ]
  },
  {
   "cell_type": "code",
   "execution_count": 7,
   "metadata": {},
   "outputs": [
    {
     "name": "stdout",
     "output_type": "stream",
     "text": [
      "========================= LAMBERT'S PROBLEM =========================\n",
      "Transfering from r1: [ 5000 10000  2100] [km] \n",
      "              to r2: [-14600   2500   7000] [km] \n",
      "in time of flight: 0.023148148148148147 [days]\n",
      "=====================================================================\n",
      "dtheta: 100.29252420729621\n",
      "Value of A: 12372.272033956451\n",
      "Initially pre-selected z0: -10, where F0 = nan\n",
      "Updated z0: -5.0, where F0 = nan\n",
      "Updated z0: -2.5, where F0 = -313618.0887324887\n",
      "Scipy will use -1.5 as z0 initial guess\n",
      "Transfer trajectory is a hyperbolla; z = -1.513182442663566\n",
      "Lagrange functions f: 0.3981234817955711, g: 1621.5355428908742, gdot: 0.5820811381357782\n",
      "=========================== SOLUTION ===========================\n",
      "Velocity at r1: [-10.23142384  -0.91347663   3.80129854] [km/s]\n",
      "velocity at r2: [-8.32444572 -5.2695713   1.21771488] [km/s]\n",
      "================================================================\n"
     ]
    },
    {
     "name": "stderr",
     "output_type": "stream",
     "text": [
      "C:\\Users\\yurio\\Anaconda3\\lib\\site-packages\\ipykernel_launcher.py:53: RuntimeWarning: invalid value encountered in power\n",
      "C:\\Users\\yurio\\Anaconda3\\lib\\site-packages\\ipykernel_launcher.py:53: RuntimeWarning: invalid value encountered in sqrt\n",
      "C:\\Users\\yurio\\Anaconda3\\lib\\site-packages\\ipykernel_launcher.py:58: RuntimeWarning: invalid value encountered in power\n",
      "C:\\Users\\yurio\\Anaconda3\\lib\\site-packages\\ipykernel_launcher.py:58: RuntimeWarning: invalid value encountered in sqrt\n"
     ]
    }
   ],
   "source": [
    "# solve Lambert problem in prograde with more extreme tof\n",
    "dt2 = 2000\n",
    "v1, v2 = lambert(r1=r_in, r2=r_fn, tof=dt2, mu=mu_E, grade='pro')"
   ]
  },
  {
   "cell_type": "code",
   "execution_count": 8,
   "metadata": {},
   "outputs": [
    {
     "name": "stdout",
     "output_type": "stream",
     "text": [
      "========================= LAMBERT'S PROBLEM =========================\n",
      "Transfering from r1: [ 5000 10000  2100] [km] \n",
      "              to r2: [-14600   2500   7000] [km] \n",
      "in time of flight: 2.3148148148148147e-05 [days]\n",
      "=====================================================================\n",
      "dtheta: 259.70747579270375\n",
      "Value of A: -12372.272033956451\n",
      "Initially pre-selected z0: -10, where F0 = 1360160.1223655061\n",
      "Scipy will use -10 as z0 initial guess\n",
      "Transfer trajectory is a hyperbolla; z = -1017.6624120689979\n",
      "Lagrange functions f: -6503183.549540431, g: -5330105.582516561, gdot: -4515548.956235075\n",
      "=========================== SOLUTION ===========================\n",
      "Velocity at r1: [ -6100.4238367  -12200.85362075  -2562.18047515] [km/s]\n",
      "velocity at r2: [-12368.79996848   2117.94723685   5930.24740398] [km/s]\n",
      "================================================================\n"
     ]
    }
   ],
   "source": [
    "# solve Lambert problem in retrograde with more extreme tof\n",
    "dt3 = 2\n",
    "v1, v2 = lambert(r1=r_in, r2=r_fn, tof=dt3, mu=mu_E, grade='retro')"
   ]
  },
  {
   "cell_type": "code",
   "execution_count": null,
   "metadata": {},
   "outputs": [],
   "source": []
  },
  {
   "cell_type": "code",
   "execution_count": null,
   "metadata": {},
   "outputs": [],
   "source": []
  }
 ],
 "metadata": {
  "kernelspec": {
   "display_name": "Python 3",
   "language": "python",
   "name": "python3"
  },
  "language_info": {
   "codemirror_mode": {
    "name": "ipython",
    "version": 3
   },
   "file_extension": ".py",
   "mimetype": "text/x-python",
   "name": "python",
   "nbconvert_exporter": "python",
   "pygments_lexer": "ipython3",
   "version": "3.7.3"
  }
 },
 "nbformat": 4,
 "nbformat_minor": 2
}
