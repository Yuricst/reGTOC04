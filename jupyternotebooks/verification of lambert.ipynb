{
 "cells": [
  {
   "cell_type": "code",
   "execution_count": 1,
   "metadata": {},
   "outputs": [],
   "source": [
    "import numpy as np\n",
    "import poliastro as pa\n",
    "from lambert_izzo import lambert\n",
    "\n",
    "from poliastro.core import iod\n",
    "from poliastro.iod import izzo"
   ]
  },
  {
   "cell_type": "code",
   "execution_count": 2,
   "metadata": {},
   "outputs": [],
   "source": [
    "# verifying against the example in the docs:\n",
    "# http://docs.poliastro.space/en/stable/examples/Revisiting%20Lamberts%20problem%20in%20Python.html\n",
    "from astropy import units as u\n",
    "\n",
    "from poliastro.bodies import Earth"
   ]
  },
  {
   "cell_type": "code",
   "execution_count": 3,
   "metadata": {},
   "outputs": [
    {
     "name": "stdout",
     "output_type": "stream",
     "text": [
      "[2.05891257 2.91596459 0.        ] km / s [-3.4515665   0.91031354  0.        ] km / s\n"
     ]
    }
   ],
   "source": [
    "k_ = Earth.k\n",
    "r0 = np.array([15945.34, 0.0, 0.0])\n",
    "r0_ = r0 * u.km\n",
    "r = np.array([12214.83399, 10249.46731, 0.0])\n",
    "r_ = r * u.km\n",
    "tof = 76*60\n",
    "tof_ = tof * u.second\n",
    "\n",
    "expected_va  = np.array([2.058925, 2.915956, 0.0])\n",
    "expected_va_ = expected_va * u.km / u.s\n",
    "expected_vb  = np.array([-3.451569, 0.910301, 0.0])\n",
    "expected_vb_ = expected_vb * u.km / u.s\n",
    "\n",
    "(v0_, v_), = izzo.lambert(k_, r0_, r_, tof_)\n",
    "print(v0_, v_)"
   ]
  },
  {
   "cell_type": "code",
   "execution_count": 4,
   "metadata": {},
   "outputs": [],
   "source": [
    "k = Earth.k.to(u.km**3/u.s**2).value"
   ]
  },
  {
   "cell_type": "code",
   "execution_count": 5,
   "metadata": {},
   "outputs": [
    {
     "data": {
      "text/plain": [
       "array([0.00000000e+00, 0.00000000e+00, 1.63431241e+08])"
      ]
     },
     "execution_count": 5,
     "metadata": {},
     "output_type": "execute_result"
    }
   ],
   "source": [
    "np.cross(r0, r)"
   ]
  },
  {
   "cell_type": "code",
   "execution_count": 6,
   "metadata": {},
   "outputs": [
    {
     "data": {
      "text/plain": [
       "(array([2.05891257, 2.91596459, 0.        ]),\n",
       " array([-3.4515665 ,  0.91031354,  0.        ]))"
      ]
     },
     "execution_count": 6,
     "metadata": {},
     "output_type": "execute_result"
    }
   ],
   "source": [
    "lambert(k, r0, r, tof)"
   ]
  },
  {
   "cell_type": "code",
   "execution_count": 7,
   "metadata": {},
   "outputs": [
    {
     "name": "stdout",
     "output_type": "stream",
     "text": [
      "[-5.99249502  1.92536671  3.24563805] km / s [-3.3124585  -4.19661901 -0.38528906] km / s\n"
     ]
    }
   ],
   "source": [
    "r0 = np.array([5000.0, 10000.0, 2100.0])\n",
    "r0_ = r0 * u.km\n",
    "r = np.array([-14600.0, 2500.0, 7000.0])\n",
    "r_ = r * u.km\n",
    "tof = 60*60\n",
    "tof_ = 1.0 * u.h\n",
    "\n",
    "expected_va = [-5.9925, 1.9254, 3.2456] * u.km / u.s\n",
    "expected_vb = [-3.3125, -4.1966, -0.38529] * u.km / u.s\n",
    "\n",
    "(v0, v), = izzo.lambert(k_, r0_, r_, tof_)\n",
    "print(v0, v)"
   ]
  },
  {
   "cell_type": "code",
   "execution_count": 8,
   "metadata": {},
   "outputs": [
    {
     "data": {
      "text/plain": [
       "(array([-5.99249502,  1.92536671,  3.24563805]),\n",
       " array([-3.3124585 , -4.19661901, -0.38528906]))"
      ]
     },
     "execution_count": 8,
     "metadata": {},
     "output_type": "execute_result"
    }
   ],
   "source": [
    "lambert(k, r0, r, tof)"
   ]
  },
  {
   "cell_type": "code",
   "execution_count": 9,
   "metadata": {},
   "outputs": [],
   "source": [
    "r0 = np.array([22592.145603, -1599.915239, -19783.950506])\n",
    "r0_ = r0* u.km\n",
    "r = np.array([1922.067697, 4054.157051, -8925.727465])\n",
    "r_ = r * u.km\n",
    "tof_ = 10 * u.h\n",
    "tof = (tof_.to(u.s)).value\n",
    "\n",
    "expected_va = [2.000652697, 0.387688615, -2.666947760] * u.km / u.s\n",
    "expected_vb = [-3.79246619, -1.77707641, 6.856814395] * u.km / u.s\n",
    "\n",
    "expected_va_l = [0.50335770, 0.61869408, -1.57176904] * u.km / u.s\n",
    "expected_vb_l = [-4.18334626, -1.13262727, 6.13307091] * u.km / u.s\n",
    "\n",
    "expected_va_r = [-2.45759553, 1.16945801, 0.43161258] * u.km / u.s\n",
    "expected_vb_r = [-5.53841370, 0.01822220, 5.49641054] * u.km / u.s"
   ]
  },
  {
   "cell_type": "code",
   "execution_count": 14,
   "metadata": {},
   "outputs": [
    {
     "name": "stdout",
     "output_type": "stream",
     "text": [
      "[ 2.0006527   0.38768862 -2.66694776] km / s [-3.79246619 -1.77707641  6.85681439] km / s\n"
     ]
    },
    {
     "data": {
      "text/plain": [
       "[(array([ 2.0006527 ,  0.38768862, -2.66694776]),\n",
       "  array([-3.79246619, -1.77707641,  6.85681439]))]"
      ]
     },
     "execution_count": 14,
     "metadata": {},
     "output_type": "execute_result"
    }
   ],
   "source": [
    "# zero rev\n",
    "(v0, v), = izzo.lambert(k_, r0_, r_, tof_, M=0)\n",
    "print(v0, v)\n",
    "\n",
    "lambert(k, r0, r, tof, M=0, return_='all')"
   ]
  },
  {
   "cell_type": "code",
   "execution_count": 19,
   "metadata": {},
   "outputs": [
    {
     "name": "stdout",
     "output_type": "stream",
     "text": [
      "(<Quantity [ 0.5033577 ,  0.61869408, -1.57176904] km / s>, <Quantity [-4.18334626, -1.13262727,  6.13307091] km / s>)\n",
      "(<Quantity [-2.45759553,  1.16945801,  0.43161258] km / s>, <Quantity [-5.53841318,  0.01822213,  5.49641016] km / s>)\n"
     ]
    },
    {
     "data": {
      "text/plain": [
       "[(array([ 0.5033577 ,  0.61869408, -1.57176904]),\n",
       "  array([-4.18334626, -1.13262727,  6.13307091])),\n",
       " (array([-2.45759553,  1.16945801,  0.43161258]),\n",
       "  array([-5.53841318,  0.01822213,  5.49641016]))]"
      ]
     },
     "execution_count": 19,
     "metadata": {},
     "output_type": "execute_result"
    }
   ],
   "source": [
    "# single rev\n",
    "sols = izzo.lambert(k_, r0_, r_, tof_, M=1)\n",
    "\n",
    "for s in sols:\n",
    "    print(s)\n",
    "    \n",
    "lambert(k, r0, r, tof, M=1, return_='all')"
   ]
  },
  {
   "cell_type": "code",
   "execution_count": null,
   "metadata": {},
   "outputs": [],
   "source": []
  }
 ],
 "metadata": {
  "kernelspec": {
   "display_name": "Python 3",
   "language": "python",
   "name": "python3"
  },
  "language_info": {
   "codemirror_mode": {
    "name": "ipython",
    "version": 3
   },
   "file_extension": ".py",
   "mimetype": "text/x-python",
   "name": "python",
   "nbconvert_exporter": "python",
   "pygments_lexer": "ipython3",
   "version": "3.6.7"
  }
 },
 "nbformat": 4,
 "nbformat_minor": 2
}
