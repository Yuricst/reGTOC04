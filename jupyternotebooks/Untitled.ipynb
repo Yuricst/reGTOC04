{
 "cells": [
  {
   "cell_type": "code",
   "execution_count": 1,
   "metadata": {},
   "outputs": [],
   "source": [
    "import numpy as np\n",
    "from numpy.linalg import norm\n",
    "import scipy as sp\n",
    "import pandas as pd\n",
    "import scipy.optimize as opt\n",
    "import random\n",
    "\n",
    "import logging\n",
    "\n",
    "import matplotlib.pyplot as plt\n",
    "from mpl_toolkits.mplot3d import axes3d\n",
    "\n",
    "from asteroid import Asteroid\n",
    "from lambert_izzo import lambert"
   ]
  },
  {
   "cell_type": "code",
   "execution_count": 2,
   "metadata": {},
   "outputs": [
    {
     "data": {
      "text/html": [
       "<div>\n",
       "<style scoped>\n",
       "    .dataframe tbody tr th:only-of-type {\n",
       "        vertical-align: middle;\n",
       "    }\n",
       "\n",
       "    .dataframe tbody tr th {\n",
       "        vertical-align: top;\n",
       "    }\n",
       "\n",
       "    .dataframe thead th {\n",
       "        text-align: right;\n",
       "    }\n",
       "</style>\n",
       "<table border=\"1\" class=\"dataframe\">\n",
       "  <thead>\n",
       "    <tr style=\"text-align: right;\">\n",
       "      <th></th>\n",
       "      <th>Name</th>\n",
       "      <th>Epoch</th>\n",
       "      <th>a</th>\n",
       "      <th>e</th>\n",
       "      <th>i</th>\n",
       "      <th>LAN</th>\n",
       "      <th>omega</th>\n",
       "      <th>M0</th>\n",
       "    </tr>\n",
       "  </thead>\n",
       "  <tbody>\n",
       "    <tr>\n",
       "      <th>0</th>\n",
       "      <td>'1580'</td>\n",
       "      <td>54800.0</td>\n",
       "      <td>2.196803</td>\n",
       "      <td>0.487683</td>\n",
       "      <td>52.090794</td>\n",
       "      <td>62.324795</td>\n",
       "      <td>159.539839</td>\n",
       "      <td>3.521687</td>\n",
       "    </tr>\n",
       "    <tr>\n",
       "      <th>1</th>\n",
       "      <td>'1620'</td>\n",
       "      <td>54800.0</td>\n",
       "      <td>1.245551</td>\n",
       "      <td>0.335511</td>\n",
       "      <td>13.337693</td>\n",
       "      <td>337.266017</td>\n",
       "      <td>276.806539</td>\n",
       "      <td>136.950031</td>\n",
       "    </tr>\n",
       "    <tr>\n",
       "      <th>2</th>\n",
       "      <td>'1943'</td>\n",
       "      <td>54800.0</td>\n",
       "      <td>1.430317</td>\n",
       "      <td>0.255816</td>\n",
       "      <td>8.704065</td>\n",
       "      <td>246.401915</td>\n",
       "      <td>338.253875</td>\n",
       "      <td>288.405238</td>\n",
       "    </tr>\n",
       "    <tr>\n",
       "      <th>3</th>\n",
       "      <td>'2061'</td>\n",
       "      <td>54800.0</td>\n",
       "      <td>2.264953</td>\n",
       "      <td>0.537119</td>\n",
       "      <td>3.770822</td>\n",
       "      <td>207.654108</td>\n",
       "      <td>156.432028</td>\n",
       "      <td>46.995497</td>\n",
       "    </tr>\n",
       "    <tr>\n",
       "      <th>4</th>\n",
       "      <td>'2135'</td>\n",
       "      <td>54800.0</td>\n",
       "      <td>1.599572</td>\n",
       "      <td>0.503268</td>\n",
       "      <td>23.054312</td>\n",
       "      <td>191.262849</td>\n",
       "      <td>290.838892</td>\n",
       "      <td>256.724981</td>\n",
       "    </tr>\n",
       "  </tbody>\n",
       "</table>\n",
       "</div>"
      ],
      "text/plain": [
       "     Name    Epoch         a         e          i         LAN       omega  \\\n",
       "0  '1580'  54800.0  2.196803  0.487683  52.090794   62.324795  159.539839   \n",
       "1  '1620'  54800.0  1.245551  0.335511  13.337693  337.266017  276.806539   \n",
       "2  '1943'  54800.0  1.430317  0.255816   8.704065  246.401915  338.253875   \n",
       "3  '2061'  54800.0  2.264953  0.537119   3.770822  207.654108  156.432028   \n",
       "4  '2135'  54800.0  1.599572  0.503268  23.054312  191.262849  290.838892   \n",
       "\n",
       "           M0  \n",
       "0    3.521687  \n",
       "1  136.950031  \n",
       "2  288.405238  \n",
       "3   46.995497  \n",
       "4  256.724981  "
      ]
     },
     "execution_count": 2,
     "metadata": {},
     "output_type": "execute_result"
    }
   ],
   "source": [
    "df = pd.read_csv('../gtoc4_problem_data.txt', skiprows=2,delimiter= '\\s+',header=None)\n",
    "df.columns = ['Name','Epoch','a','e','i','LAN','omega','M0']\n",
    "df.head()"
   ]
  },
  {
   "cell_type": "code",
   "execution_count": 6,
   "metadata": {},
   "outputs": [
    {
     "data": {
      "text/plain": [
       "Name     '2006QV89'\n",
       "Epoch         54800\n",
       "a           1.19173\n",
       "e          0.224314\n",
       "i           1.06977\n",
       "LAN          166.12\n",
       "omega       236.638\n",
       "M0          219.754\n",
       "Name: 1057, dtype: object"
      ]
     },
     "execution_count": 6,
     "metadata": {},
     "output_type": "execute_result"
    }
   ],
   "source": [
    "df.loc[1057]"
   ]
  },
  {
   "cell_type": "code",
   "execution_count": null,
   "metadata": {},
   "outputs": [],
   "source": []
  }
 ],
 "metadata": {
  "kernelspec": {
   "display_name": "Python 3",
   "language": "python",
   "name": "python3"
  },
  "language_info": {
   "codemirror_mode": {
    "name": "ipython",
    "version": 3
   },
   "file_extension": ".py",
   "mimetype": "text/x-python",
   "name": "python",
   "nbconvert_exporter": "python",
   "pygments_lexer": "ipython3",
   "version": "3.6.7"
  }
 },
 "nbformat": 4,
 "nbformat_minor": 2
}
