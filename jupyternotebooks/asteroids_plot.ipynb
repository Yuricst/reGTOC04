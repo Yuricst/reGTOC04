{
 "cells": [
  {
   "cell_type": "markdown",
   "metadata": {},
   "source": [
    "# Asteroids plot\n",
    "2019.10.21\n",
    "Revisiting problem from GTOC 4 - Asteroids Billiard\n",
    "https://sophia.estec.esa.int/gtoc_portal/?page_id=23\n",
    "\n",
    "Preliminary visualization of asteroids position"
   ]
  },
  {
   "cell_type": "code",
   "execution_count": 1,
   "metadata": {},
   "outputs": [
    {
     "ename": "ModuleNotFoundError",
     "evalue": "No module named 'spiceypy'",
     "output_type": "error",
     "traceback": [
      "\u001b[1;31m---------------------------------------------------------------------------\u001b[0m",
      "\u001b[1;31mModuleNotFoundError\u001b[0m                       Traceback (most recent call last)",
      "\u001b[1;32m<ipython-input-1-e6c95af1ddd6>\u001b[0m in \u001b[0;36m<module>\u001b[1;34m\u001b[0m\n\u001b[0;32m      1\u001b[0m \u001b[1;32mimport\u001b[0m \u001b[0mnumpy\u001b[0m \u001b[1;32mas\u001b[0m \u001b[0mnp\u001b[0m\u001b[1;33m\u001b[0m\u001b[1;33m\u001b[0m\u001b[0m\n\u001b[0;32m      2\u001b[0m \u001b[1;32mimport\u001b[0m \u001b[0mpandas\u001b[0m \u001b[1;32mas\u001b[0m \u001b[0mpd\u001b[0m\u001b[1;33m\u001b[0m\u001b[1;33m\u001b[0m\u001b[0m\n\u001b[1;32m----> 3\u001b[1;33m \u001b[1;32mimport\u001b[0m \u001b[0mspiceypy\u001b[0m \u001b[1;32mas\u001b[0m \u001b[0mspice\u001b[0m\u001b[1;33m\u001b[0m\u001b[1;33m\u001b[0m\u001b[0m\n\u001b[0m\u001b[0;32m      4\u001b[0m \u001b[1;32mimport\u001b[0m \u001b[0mmatplotlib\u001b[0m\u001b[1;33m.\u001b[0m\u001b[0mpyplot\u001b[0m \u001b[1;32mas\u001b[0m \u001b[0mplt\u001b[0m\u001b[1;33m\u001b[0m\u001b[1;33m\u001b[0m\u001b[0m\n\u001b[0;32m      5\u001b[0m \u001b[1;32mfrom\u001b[0m \u001b[0mmpl_toolkits\u001b[0m\u001b[1;33m.\u001b[0m\u001b[0mmplot3d\u001b[0m \u001b[1;32mimport\u001b[0m \u001b[0maxes3d\u001b[0m\u001b[1;33m\u001b[0m\u001b[1;33m\u001b[0m\u001b[0m\n",
      "\u001b[1;31mModuleNotFoundError\u001b[0m: No module named 'spiceypy'"
     ]
    }
   ],
   "source": [
    "import numpy as np\n",
    "import pandas as pd\n",
    "import spiceypy as spice\n",
    "import matplotlib.pyplot as plt\n",
    "from mpl_toolkits.mplot3d import axes3d\n",
    "import matplotlib.animation as animation\n",
    "import plotly.express as px\n"
   ]
  },
  {
   "cell_type": "code",
   "execution_count": null,
   "metadata": {},
   "outputs": [],
   "source": [
    "# load spice kernels\n",
    "spice.furnsh('../spice/naif0012.tls')"
   ]
  },
  {
   "cell_type": "code",
   "execution_count": null,
   "metadata": {},
   "outputs": [],
   "source": [
    "# define function to create circle\n",
    "def mycircle(x0,y0,r,points=100):\n",
    "    \"\"\"Function creates array of points to plot a 2D circle. Requires numpy package. \n",
    "    Args:\n",
    "        x0 (float): x-coordinate of circle\n",
    "        y0 (float): y-coordinate of circle\n",
    "        r (float): radius\n",
    "        points (int): number of points used to create circle\n",
    "    Returns:\n",
    "        (numpy array): points x 2 numpy array of coordinates of circle\n",
    "    \"\"\"\n",
    "    # initialize array\n",
    "    coord = np.zeros((points,2))\n",
    "    # polar definition of circle\n",
    "    theta = np.linspace(0, 2*np.pi, num=points)\n",
    "    for i in range(points):\n",
    "        coord[i,0] = r * np.sin(theta[i])\n",
    "        coord[i,1] = r * np.cos(theta[i])\n",
    "    \n",
    "    return coord"
   ]
  },
  {
   "cell_type": "code",
   "execution_count": null,
   "metadata": {
    "scrolled": false
   },
   "outputs": [],
   "source": [
    "# import ephemerides data from GTOC4 into pandas dataframe\n",
    "elmnts = ['Name','Epoch','a','e','i','LAN','periap','theta']\n",
    "df = pd.read_fwf('../gtoc4_problem_data.txt', sep='\\t', skiprows=1)\n",
    "num,tmp = df.shape\n",
    "print(df.shape)\n",
    "df.head(5)"
   ]
  },
  {
   "cell_type": "code",
   "execution_count": null,
   "metadata": {},
   "outputs": [],
   "source": [
    "# reassign column names\n",
    "df.columns =  ['Name','Epoch','a','e','i','LAN','omega','M0']\n",
    "df.head(3)"
   ]
  },
  {
   "cell_type": "markdown",
   "metadata": {},
   "source": [
    "### Preliminary visualization \n",
    "(validation of imported data)"
   ]
  },
  {
   "cell_type": "code",
   "execution_count": null,
   "metadata": {},
   "outputs": [],
   "source": [
    "# define gravitational parameters\n",
    "MU = 1.32712440018*10**11   # sun's gravitational parameter [km^3/s^2]\n",
    "AU = 1.49597870691*10**8    # astronomical unit [AU] to [km]\n",
    "g0 = 9.80665                # gravitational acceleration [m/s^2]\n",
    "\n",
    "# time to compute orbit position\n",
    "JD = df.at[0,'Epoch'] + 2400000.5  # convert Modified Julian Date to Julian Date\n",
    "strtime = str(JD) + ' JD'\n",
    "et0 = spice.str2et(strtime)         # convert Julian Date to ephemeris seconds\n",
    "print('State vector computed at: {}'.format(spice.et2utc(et0,'C',1)))\n",
    "\n",
    "# compute initial state vector of asteroids\n",
    "sv = np.zeros((6,num)) # initialize\n",
    "\n",
    "for i in range(num):    \n",
    "    rp = df.at[i,'a'] * (1 - df.at[i,'e'])\n",
    "    elts = [rp, df.at[i,'e'], np.rad2deg(df.at[i,'i']), np.rad2deg(df.at[i,'LAN']), np.rad2deg(df.at[i,'omega']), np.rad2deg(df.at[i,'M0']), et0, MU]\n",
    "    tmp = spice.conics(elts,et0)\n",
    "    # store position\n",
    "    sv[0,i] = tmp[0]  # x-position\n",
    "    sv[1,i] = tmp[1]  # y-position\n",
    "    sv[2,i] = tmp[2]  # z-position\n",
    "    # store velocity\n",
    "    sv[3,i] = tmp[3]  # x-velocity\n",
    "    sv[4,i] = tmp[4]  # y-velocity\n",
    "    sv[5,i] = tmp[5]  # z-velocity\n",
    "    \n",
    "# also define colors, size\n",
    "sizasterpod = 0.001 * np.ones(num)\n",
    "\n",
    "# convert to tidy pandas dataframe\n",
    "pos0_ast = pd.DataFrame({\"x\" : sv[0,:],\n",
    "                       \"y\" : sv[1,:],\n",
    "                       \"z\" : sv[2,:],\n",
    "                       \"vx\" : sv[3,:],\n",
    "                       \"vy\" : sv[4,:],\n",
    "                       \"vz\" : sv[5,:],\n",
    "                       \"size\" : sizasterpod})\n",
    "\n",
    "pos0_ast"
   ]
  },
  {
   "cell_type": "code",
   "execution_count": null,
   "metadata": {},
   "outputs": [],
   "source": [
    "# plot statistical data of asteroids: inclination vs. semi-major axis\n",
    "fig = plt.figure(figsize=(8, 8))\n",
    "ax = fig.add_subplot()\n",
    "x = np.zeros(num)\n",
    "y = np.zeros(num)\n",
    "for i in range(num):\n",
    "    x[i] = df.at[i,'a']\n",
    "    y[i] = df.at[i,'i']\n",
    "    \n",
    "plt.scatter(x, y, label='asteroids', c='r', s=0.5)\n",
    "plt.axvline(x=1, label='Earth orbit',ls='--',lw=1,c='b')\n",
    "plt.axvline(x=1.52, label='Mars orbit',ls='--',lw=1,c='m')\n",
    "\n",
    "plt.title(f'Asteroids distribution in {spice.et2utc(et0,\"c\",0)}')\n",
    "plt.xlabel('a [AU]')\n",
    "plt.ylabel('i [deg]')\n",
    "plt.legend()\n",
    "plt.show()"
   ]
  },
  {
   "cell_type": "code",
   "execution_count": null,
   "metadata": {},
   "outputs": [],
   "source": [
    "# plot statistical data of asteroids: orbit in x-y plane\n",
    "fig = plt.figure(figsize=(8, 8))\n",
    "\n",
    "x = np.zeros(num)\n",
    "y = np.zeros(num)\n",
    "for i in range(num):\n",
    "    x[i] = pos0_ast.at[i,'x']\n",
    "    y[i] = pos0_ast.at[i,'y']\n",
    "    \n",
    "    xx = pos0_ast.at[i,'x']\n",
    "    yy = pos0_ast.at[i,'y']\n",
    "    plt.scatter(xx, yy, c='r', s=0.5)\n",
    "\n",
    "# create circle to represent Earth\n",
    "circle_coord = mycircle(0,0,1)\n",
    "plt.plot(circle_coord[:,0], circle_coord[:,1], label='1 AU orbit')\n",
    "\n",
    "# formating plot\n",
    "#plt.scatter(x, y, label='asteroids', c='r', s=0.5)\n",
    "#plt.axvline(x=0, ls='--',lw=0.3, c='k')\n",
    "#plt.axhline(y=0, ls='--',lw=0.3, c='k')\n",
    "plt.grid()\n",
    "plt.title(f'Asteroids distribution in {spice.et2utc(et0,\"c\",0)}')\n",
    "plt.xlabel('x [AU]')\n",
    "plt.ylabel('y [AU]')\n",
    "plt.axis('scaled')\n",
    "plt.legend()\n",
    "plt.ylim(-4, 4)\n",
    "plt.xlim(-4, 4)\n",
    "plt.show()\n",
    "\n"
   ]
  },
  {
   "cell_type": "code",
   "execution_count": null,
   "metadata": {},
   "outputs": [],
   "source": [
    "# Earth ephemeris\n",
    "def Earth(param):\n",
    "    \"\"\"Function returns ephemeris value prompted, as defined by GTOC4 problem statement\n",
    "    Args:\n",
    "        param (str): orbital parameter to be fetched\n",
    "            a: semi-major axis [AU]\n",
    "            e: eccentricity\n",
    "            i: inclination [deg]\n",
    "            LAN: longitude of ascendig node [deg]\n",
    "            omega: argument of periapsis [deg]\n",
    "            M0: mean anomaly [deg]\n",
    "            t: Epoch at which these elements are defined [MJD]\n",
    "    Returns:\n",
    "        (float): value of prompted parameter\n",
    "    \"\"\"\n",
    "    if param == 'a':\n",
    "        retval = 0.999988049532578\n",
    "    elif param == 'e':\n",
    "        retval = 1.671681163160 / np.power(10,2)\n",
    "    elif param == 'i':\n",
    "        retval = 0.8854353079654 / np.power(10,3)\n",
    "    elif param == 'LAN':\n",
    "        retval = 175.40647696473\n",
    "    elif param == 'omega':\n",
    "        retval = 287.61577546182\n",
    "    elif param == 'M0':\n",
    "        retval = 257.60683707535\n",
    "    elif param == 't':\n",
    "        retval = 54000\n",
    "    else:\n",
    "        print('function parameter is invalid')\n",
    "        return None\n",
    "    return retval\n"
   ]
  },
  {
   "cell_type": "code",
   "execution_count": null,
   "metadata": {},
   "outputs": [],
   "source": [
    "# compute Earth position\n",
    "rp = Earth('a') * (1 - Earth('e'))\n",
    "elts = [rp, Earth('e'), np.rad2deg(Earth('i')), np.rad2deg(Earth('LAN')), np.rad2deg(Earth('omega')), np.rad2deg(Earth('M0')), et0, MU]\n",
    "Earth0 = spice.conics(elts,et0)\n"
   ]
  },
  {
   "cell_type": "code",
   "execution_count": null,
   "metadata": {
    "scrolled": false
   },
   "outputs": [],
   "source": [
    "# plot 3D asteroid positions at one instance in time\n",
    "#%matplotlib\n",
    "fig = plt.figure(figsize=(6, 6))\n",
    "ax = fig.add_subplot(111, projection='3d')\n",
    "ax.scatter(0,0,0, c='tab:orange', label='Sun',s=40)\n",
    "ax.scatter(Earth0[0],Earth0[1],Earth0[2], c='b', label='Earth',s=16)\n",
    "ax.scatter(sv[0,:], sv[1,:], sv[2,:], c='r', s=0.3, label='Asteroids')\n",
    "\n",
    "plt.title(f'Asteroids plot in {spice.et2utc(et0,\"c\",0)}')\n",
    "ax.set_xlabel('x [AU]')\n",
    "ax.set_ylabel('y [AU]')\n",
    "ax.set_zlabel('z [AU]')\n",
    "ax.legend()\n",
    "plt.show()\n"
   ]
  },
  {
   "cell_type": "code",
   "execution_count": null,
   "metadata": {},
   "outputs": [],
   "source": [
    "# 3D plotly orbit of asteroids\n",
    "fig = px.scatter_3d(pos0_ast, x='x', y='y', z='z', size='size')\n",
    "fig.show()"
   ]
  },
  {
   "cell_type": "markdown",
   "metadata": {},
   "source": [
    "### Orbit Propagation over time range of interest"
   ]
  },
  {
   "cell_type": "code",
   "execution_count": null,
   "metadata": {},
   "outputs": [],
   "source": [
    "# Setup for orbit propagation\n",
    "step = 1000\n",
    "# start and end time (end time includes +10 years for operation)\n",
    "utc = ['Jan 1, 2015','Dec 31, 2035']\n",
    "etOne = spice.str2et(utc[0])  # convert to ephemeris seconds\n",
    "etTwo = spice.str2et(utc[1])  # convert to ephemeris seconds\n",
    "print(\"ET One: {}, ET Two: {}\".format(etOne, etTwo))\n",
    "\n",
    "# get times between start and end\n",
    "etRange = [x*(etTwo-etOne)/step + etOne for x in range(step)]\n",
    "    "
   ]
  },
  {
   "cell_type": "code",
   "execution_count": null,
   "metadata": {},
   "outputs": [],
   "source": [
    "# Earth orbit propagation\n",
    "# initialize state-vector matrix\n",
    "sv_prop_Earth = np.zeros((6,step))\n",
    "\n",
    "for i in range(step):\n",
    "    elts = [rp, Earth('e'), np.rad2deg(Earth('i')), np.rad2deg(Earth('LAN')), np.rad2deg(Earth('omega')), np.rad2deg(Earth('M0')), etRange[i], MU]\n",
    "    tmp = spice.conics(elts,et0) # propagate state vector of Earth\n",
    "    # store position\n",
    "    sv_prop_Earth[0,i] = tmp[0]  # x-position\n",
    "    sv_prop_Earth[1,i] = tmp[1]  # y-position\n",
    "    sv_prop_Earth[2,i] = tmp[2]  # z-position\n",
    "    # store velocity\n",
    "    sv_prop_Earth[3,i] = tmp[3]  # x-velocity\n",
    "    sv_prop_Earth[4,i] = tmp[4]  # y-velocity\n",
    "    sv_prop_Earth[5,i] = tmp[5]  # z-velocity\n",
    "\n",
    "# plot propagated orbit\n",
    "fig = plt.figure(figsize=(9, 9))\n",
    "ax = fig.add_subplot(111, projection = '3d')\n",
    "ax.plot(sv_prop_Earth[0], sv_prop_Earth[1], sv_prop_Earth[2])\n",
    "plt.title('SpicePy Cassini Position Example from Jun 20, 2004 to Dec 1, 2005')\n",
    "plt.show()\n"
   ]
  },
  {
   "cell_type": "code",
   "execution_count": null,
   "metadata": {},
   "outputs": [],
   "source": [
    "TWOPI = 2*np.pi\n",
    "\n",
    "fig, ax = plt.subplots()\n",
    "\n",
    "t = np.arange(0.0, TWOPI, 0.001)\n",
    "s = np.sin(t)\n",
    "l = plt.plot(t, s)\n",
    "\n",
    "ax = plt.axis([0,TWOPI,-1,1])\n",
    "\n",
    "redDot, = plt.plot([0], [np.sin(0)], 'ro')\n",
    "\n",
    "def animate(i):\n",
    "    redDot.set_data(i, np.sin(i))\n",
    "    return redDot,\n",
    "\n",
    "# create animation using the animate() function\n",
    "myAnimation = animation.FuncAnimation(fig, animate, frames=np.arange(0.0, TWOPI, 0.1),interval=10, blit=True, repeat=True)\n",
    "\n",
    "plt.show()\n"
   ]
  },
  {
   "cell_type": "code",
   "execution_count": null,
   "metadata": {},
   "outputs": [],
   "source": [
    "# Tisserand's parameter\n",
    "# https://en.wikipedia.org/wiki/Tisserand%27s_parameter"
   ]
  },
  {
   "cell_type": "code",
   "execution_count": null,
   "metadata": {},
   "outputs": [],
   "source": []
  }
 ],
 "metadata": {
  "kernelspec": {
   "display_name": "Python 3",
   "language": "python",
   "name": "python3"
  },
  "language_info": {
   "codemirror_mode": {
    "name": "ipython",
    "version": 3
   },
   "file_extension": ".py",
   "mimetype": "text/x-python",
   "name": "python",
   "nbconvert_exporter": "python",
   "pygments_lexer": "ipython3",
   "version": "3.7.3"
  }
 },
 "nbformat": 4,
 "nbformat_minor": 2
}
