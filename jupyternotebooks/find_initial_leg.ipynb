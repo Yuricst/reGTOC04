{
 "cells": [
  {
   "cell_type": "markdown",
   "metadata": {},
   "source": [
    "# Initial leg (Earth -> first Asteroid) simulation"
   ]
  },
  {
   "cell_type": "code",
   "execution_count": 38,
   "metadata": {},
   "outputs": [],
   "source": [
    "import numpy as np\n",
    "from numpy.linalg import norm\n",
    "import scipy as sp\n",
    "import pandas as pd\n",
    "import scipy.optimize as opt\n",
    "import random\n",
    "\n",
    "import logging\n",
    "\n",
    "import matplotlib.pyplot as plt\n",
    "from mpl_toolkits.mplot3d import axes3d\n",
    "\n",
    "from asteroid import Asteroid\n",
    "from lambert_izzo import lambert as lambert_izzo\n",
    "from lambert import lambert as lambert_bate\n",
    "\n",
    "from satellite import Satellite"
   ]
  },
  {
   "cell_type": "code",
   "execution_count": 2,
   "metadata": {},
   "outputs": [
    {
     "data": {
      "text/html": [
       "<div>\n",
       "<style scoped>\n",
       "    .dataframe tbody tr th:only-of-type {\n",
       "        vertical-align: middle;\n",
       "    }\n",
       "\n",
       "    .dataframe tbody tr th {\n",
       "        vertical-align: top;\n",
       "    }\n",
       "\n",
       "    .dataframe thead th {\n",
       "        text-align: right;\n",
       "    }\n",
       "</style>\n",
       "<table border=\"1\" class=\"dataframe\">\n",
       "  <thead>\n",
       "    <tr style=\"text-align: right;\">\n",
       "      <th></th>\n",
       "      <th>Name</th>\n",
       "      <th>Epoch</th>\n",
       "      <th>a</th>\n",
       "      <th>e</th>\n",
       "      <th>i</th>\n",
       "      <th>LAN</th>\n",
       "      <th>omega</th>\n",
       "      <th>M0</th>\n",
       "    </tr>\n",
       "  </thead>\n",
       "  <tbody>\n",
       "    <tr>\n",
       "      <th>0</th>\n",
       "      <td>'1580'</td>\n",
       "      <td>54800.0</td>\n",
       "      <td>2.196803</td>\n",
       "      <td>0.487683</td>\n",
       "      <td>52.090794</td>\n",
       "      <td>62.324795</td>\n",
       "      <td>159.539839</td>\n",
       "      <td>3.521687</td>\n",
       "    </tr>\n",
       "    <tr>\n",
       "      <th>1</th>\n",
       "      <td>'1620'</td>\n",
       "      <td>54800.0</td>\n",
       "      <td>1.245551</td>\n",
       "      <td>0.335511</td>\n",
       "      <td>13.337693</td>\n",
       "      <td>337.266017</td>\n",
       "      <td>276.806539</td>\n",
       "      <td>136.950031</td>\n",
       "    </tr>\n",
       "    <tr>\n",
       "      <th>2</th>\n",
       "      <td>'1943'</td>\n",
       "      <td>54800.0</td>\n",
       "      <td>1.430317</td>\n",
       "      <td>0.255816</td>\n",
       "      <td>8.704065</td>\n",
       "      <td>246.401915</td>\n",
       "      <td>338.253875</td>\n",
       "      <td>288.405238</td>\n",
       "    </tr>\n",
       "    <tr>\n",
       "      <th>3</th>\n",
       "      <td>'2061'</td>\n",
       "      <td>54800.0</td>\n",
       "      <td>2.264953</td>\n",
       "      <td>0.537119</td>\n",
       "      <td>3.770822</td>\n",
       "      <td>207.654108</td>\n",
       "      <td>156.432028</td>\n",
       "      <td>46.995497</td>\n",
       "    </tr>\n",
       "    <tr>\n",
       "      <th>4</th>\n",
       "      <td>'2135'</td>\n",
       "      <td>54800.0</td>\n",
       "      <td>1.599572</td>\n",
       "      <td>0.503268</td>\n",
       "      <td>23.054312</td>\n",
       "      <td>191.262849</td>\n",
       "      <td>290.838892</td>\n",
       "      <td>256.724981</td>\n",
       "    </tr>\n",
       "  </tbody>\n",
       "</table>\n",
       "</div>"
      ],
      "text/plain": [
       "     Name    Epoch         a         e          i         LAN       omega  \\\n",
       "0  '1580'  54800.0  2.196803  0.487683  52.090794   62.324795  159.539839   \n",
       "1  '1620'  54800.0  1.245551  0.335511  13.337693  337.266017  276.806539   \n",
       "2  '1943'  54800.0  1.430317  0.255816   8.704065  246.401915  338.253875   \n",
       "3  '2061'  54800.0  2.264953  0.537119   3.770822  207.654108  156.432028   \n",
       "4  '2135'  54800.0  1.599572  0.503268  23.054312  191.262849  290.838892   \n",
       "\n",
       "           M0  \n",
       "0    3.521687  \n",
       "1  136.950031  \n",
       "2  288.405238  \n",
       "3   46.995497  \n",
       "4  256.724981  "
      ]
     },
     "execution_count": 2,
     "metadata": {},
     "output_type": "execute_result"
    }
   ],
   "source": [
    "df = pd.read_csv('../gtoc4_problem_data.txt', skiprows=2,delimiter= '\\s+',header=None)\n",
    "df.columns = ['Name','Epoch','a','e','i','LAN','omega','M0']\n",
    "df.head()"
   ]
  },
  {
   "cell_type": "code",
   "execution_count": 3,
   "metadata": {},
   "outputs": [],
   "source": [
    "# load all asteroids into a list \n",
    "asteroids = [None,]*len(df)\n",
    "\n",
    "# create asteroids\n",
    "for i in range(len(df)):\n",
    "    asteroids[i] = Asteroid(*tuple(df.loc[i].values))"
   ]
  },
  {
   "cell_type": "code",
   "execution_count": 4,
   "metadata": {},
   "outputs": [
    {
     "name": "stdout",
     "output_type": "stream",
     "text": [
      "*Asteroid '2006HY50'*\n",
      "  Epoch0 (MJD)  : 54800.0\n",
      "  a (AU)        : 2.58527077384406\n",
      "  e_mag         : 0.6283443417071826\n",
      "  i (deg)       : 25.68377607051675\n",
      "  LAN (deg)     : 44.67871108526802\n",
      "  argPeri (deg) : 77.67636454937323\n",
      "  meanAnom (deg): 243.55517571104423\n"
     ]
    }
   ],
   "source": [
    "print(asteroids[1008].details())"
   ]
  },
  {
   "cell_type": "code",
   "execution_count": 5,
   "metadata": {},
   "outputs": [
    {
     "name": "stdout",
     "output_type": "stream",
     "text": [
      "*Asteroid Earth*\n",
      "  Epoch0 (MJD)  : 54000\n",
      "  a (AU)        : 0.9999880495325779\n",
      "  e_mag         : 0.0167168116316\n",
      "  i (deg)       : 0.0008854353079653999\n",
      "  LAN (deg)     : 175.40647696473\n",
      "  argPeri (deg) : 287.61577546182\n",
      "  meanAnom (deg): 257.60683707535\n"
     ]
    }
   ],
   "source": [
    "earth = Asteroid('Earth',54000,0.999988049532578, 1.671681163160e-2, 0.8854353079654e-3, 175.40647696473, 287.61577546182, 257.60683707535)\n",
    "print(earth.details())"
   ]
  },
  {
   "cell_type": "code",
   "execution_count": 37,
   "metadata": {},
   "outputs": [
    {
     "data": {
      "text/plain": [
       "(array([ 2.15980138e+07, -1.50546116e+08,  2.29230046e+03]),\n",
       " array([ 2.90019605e+01,  4.11814566e+00, -9.93302261e-05]))"
      ]
     },
     "execution_count": 37,
     "metadata": {},
     "output_type": "execute_result"
    }
   ],
   "source": [
    "earth.get_rv(epoch=ld)"
   ]
  },
  {
   "cell_type": "code",
   "execution_count": 40,
   "metadata": {},
   "outputs": [],
   "source": [
    "sat = Satellite()"
   ]
  },
  {
   "cell_type": "code",
   "execution_count": 41,
   "metadata": {},
   "outputs": [],
   "source": [
    "sat.set_state(ld, *earth.get_rv(epoch=ld))"
   ]
  },
  {
   "cell_type": "code",
   "execution_count": 43,
   "metadata": {},
   "outputs": [
    {
     "name": "stdout",
     "output_type": "stream",
     "text": [
      "*Spacecraft Scaramouche*\n",
      "  Epoch0 (MJD)  : 58676.4\n",
      "  a (AU)        : 0.9999880495325774\n",
      "  e_mag         : 0.016716811631600034\n",
      "  i (deg)       : 0.0008854353079653586\n",
      "  LAN (deg)     : 175.40647696473007\n",
      "  argPeri (deg) : 287.6157754618187\n",
      "  meanAnom (deg): 174.97766928008392\n"
     ]
    }
   ],
   "source": [
    "print(sat.details())"
   ]
  },
  {
   "cell_type": "code",
   "execution_count": 44,
   "metadata": {},
   "outputs": [
    {
     "data": {
      "text/plain": [
       "(array([ 6.00155199e+07, -1.39710715e+08,  2.07784380e+03]),\n",
       " array([ 2.68853711e+01,  1.16453524e+01, -2.12660682e-04]))"
      ]
     },
     "execution_count": 44,
     "metadata": {},
     "output_type": "execute_result"
    }
   ],
   "source": [
    "sat.get_rv(ld)"
   ]
  },
  {
   "cell_type": "code",
   "execution_count": 6,
   "metadata": {},
   "outputs": [
    {
     "data": {
      "text/plain": [
       "array([-1.05175505e+08,  1.03376966e+08, -1.46226274e+03])"
      ]
     },
     "execution_count": 6,
     "metadata": {},
     "output_type": "execute_result"
    }
   ],
   "source": [
    "earth.get_r(epoch=54000)"
   ]
  },
  {
   "cell_type": "code",
   "execution_count": 7,
   "metadata": {},
   "outputs": [],
   "source": [
    "# for each launch\n",
    "launch_step = 10\n",
    "earliest_launch_date = 57023\n",
    "latest_launch_date = 61041+10\n",
    "earliest_launch_date = 58500\n",
    "latest_launch_date = 59000\n",
    "\n",
    "\n",
    "launch_dates = np.arange(earliest_launch_date, latest_launch_date, step=launch_step)"
   ]
  },
  {
   "cell_type": "code",
   "execution_count": 8,
   "metadata": {},
   "outputs": [
    {
     "data": {
      "text/plain": [
       "array([58500, 58510, 58520, 58530, 58540, 58550, 58560, 58570, 58580,\n",
       "       58590, 58600, 58610, 58620, 58630, 58640, 58650, 58660, 58670,\n",
       "       58680, 58690, 58700, 58710, 58720, 58730, 58740, 58750, 58760,\n",
       "       58770, 58780, 58790, 58800, 58810, 58820, 58830, 58840, 58850,\n",
       "       58860, 58870, 58880, 58890, 58900, 58910, 58920, 58930, 58940,\n",
       "       58950, 58960, 58970, 58980, 58990])"
      ]
     },
     "execution_count": 8,
     "metadata": {},
     "output_type": "execute_result"
    }
   ],
   "source": [
    "launch_dates"
   ]
  },
  {
   "cell_type": "code",
   "execution_count": 9,
   "metadata": {},
   "outputs": [
    {
     "data": {
      "text/plain": [
       "50"
      ]
     },
     "execution_count": 9,
     "metadata": {},
     "output_type": "execute_result"
    }
   ],
   "source": [
    "len(launch_dates)"
   ]
  },
  {
   "cell_type": "code",
   "execution_count": 10,
   "metadata": {},
   "outputs": [],
   "source": [
    "tof_vals = np.arange(20,64,step=5)"
   ]
  },
  {
   "cell_type": "code",
   "execution_count": 11,
   "metadata": {},
   "outputs": [
    {
     "data": {
      "text/plain": [
       "array([20, 25, 30, 35, 40, 45, 50, 55, 60])"
      ]
     },
     "execution_count": 11,
     "metadata": {},
     "output_type": "execute_result"
    }
   ],
   "source": [
    "tof_vals"
   ]
  },
  {
   "cell_type": "code",
   "execution_count": null,
   "metadata": {},
   "outputs": [],
   "source": []
  },
  {
   "cell_type": "code",
   "execution_count": 12,
   "metadata": {},
   "outputs": [
    {
     "ename": "ModuleNotFoundError",
     "evalue": "No module named 'spiceypy'",
     "output_type": "error",
     "traceback": [
      "\u001b[0;31m---------------------------------------------------------------------------\u001b[0m",
      "\u001b[0;31mModuleNotFoundError\u001b[0m                       Traceback (most recent call last)",
      "\u001b[0;32m<ipython-input-12-9c2741a1d8a0>\u001b[0m in \u001b[0;36m<module>\u001b[0;34m\u001b[0m\n\u001b[0;32m----> 1\u001b[0;31m \u001b[0;32mimport\u001b[0m \u001b[0mspiceypy\u001b[0m \u001b[0;32mas\u001b[0m \u001b[0mspice\u001b[0m\u001b[0;34m\u001b[0m\u001b[0;34m\u001b[0m\u001b[0m\n\u001b[0m",
      "\u001b[0;31mModuleNotFoundError\u001b[0m: No module named 'spiceypy'"
     ]
    }
   ],
   "source": [
    "\n",
    "import spiceypy as spice"
   ]
  },
  {
   "cell_type": "code",
   "execution_count": null,
   "metadata": {},
   "outputs": [],
   "source": [
    "logging.basicConfig(level=logging.INFO)\n",
    "\n",
    "# debug, info, warn error critical\n",
    "\n",
    "ld = launch_dates[0]\n",
    "tof = tof_vals[5]\n",
    "ast = asteroids[0]\n",
    "\n",
    "\n",
    "r1 = earth.get_r(epoch=ld)\n",
    "r2 = ast.get_r(epoch=ld+tof)\n",
    "\n",
    "u_day = 86400 #seconds\n",
    "\n",
    "mu = 1.32712440018e+11\n",
    "\n",
    "v1, v2 = lambert_izzo(mu, r1, r2,tof=tof*u_day,M=0, return_='short')\n",
    "\n",
    "vinf = norm(v1-earth.get_v(epoch=ld))\n"
   ]
  },
  {
   "cell_type": "code",
   "execution_count": 19,
   "metadata": {},
   "outputs": [
    {
     "name": "stderr",
     "output_type": "stream",
     "text": [
      "INFO:root:========================= LAMBERT'S PROBLEM =========================\n",
      "INFO:root:Transfering from r1: [ 8.88099826e+04 -1.51900741e+08  7.67777168e+06] [km]\n",
      "INFO:root:              to r2: [-5.194324e+06 -5.215249e+05  1.465447e+08] [km]\n",
      "INFO:root:  in time of flight: 55.25 [days]\n",
      "INFO:root:=====================================================================\n",
      "INFO:root:dtheta: 273.0943042486311\n",
      "INFO:root:Transfer trajectory is a hyperbolla; z = -4.953823527875737\n",
      "INFO:root:=========================== SOLUTION ===========================\n",
      "INFO:root:Velocity at r1: [  0.45130012  47.20540456 -15.89368466] [km/s]\n",
      "INFO:root:velocity at r2: [ -1.68221302 -14.17363454  48.39819387] [km/s]\n",
      "INFO:root:================================================================\n"
     ]
    },
    {
     "name": "stdout",
     "output_type": "stream",
     "text": [
      "*Asteroid '2006QV89'*\n",
      "  Epoch0 (MJD)  : 54800.0\n",
      "  a (AU)        : 1.19172698984184\n",
      "  e_mag         : 0.2243140875310219\n",
      "  i (deg)       : 1.0697676665227522\n",
      "  LAN (deg)     : 166.12046966888747\n",
      "  argPeri (deg) : 236.63764002189566\n",
      "  meanAnom (deg): 219.75410172645084\n",
      "[-5.194324e+06 -5.215249e+05  1.465447e+08]\n",
      "******\n",
      "49.81127486532781\n",
      "50.45896280235327\n",
      "29.292880306707804\n",
      "[-28.55066038  43.0872589  -15.89358533]\n",
      "54.07641022002988\n",
      "******\n",
      "49.81127486532776\n",
      "50.458962802353234\n",
      "29.292880306707804\n",
      "[-28.55066038  43.0872589  -15.89358533]\n",
      "54.07641022002983\n"
     ]
    }
   ],
   "source": [
    "logging.basicConfig(level=logging.INFO)\n",
    "\n",
    "# debug, info, warn error critical\n",
    "\n",
    "ld = 58676.40\n",
    "tof = 58731.65-ld\n",
    "ast = asteroids[1057]\n",
    "\n",
    "print(ast.details())\n",
    "\n",
    "\n",
    "r1 = np.array([8.88099826e+04, -1.51900741e+08,  7.67777168e+06])#earth.get_r(epoch=ld)\n",
    "r2 = np.array([-5.194324e+06,-5.215249e+05,1.465447e+08])#ast.get_r(epoch=ld+tof)\n",
    "\n",
    "print(r2)\n",
    "\n",
    "u_day = 86400 #seconds\n",
    "\n",
    "mu = 1.32712440018e+11\n",
    "\n",
    "v1, v2 = lambert_izzo(mu, r1, r2, tof=tof*u_day, M=0, return_='short')\n",
    "\n",
    "print(\"******\")\n",
    "\n",
    "\n",
    "print(norm(v1))\n",
    "print(norm(v2))\n",
    "print(norm(earth.get_v(epoch=ld)))\n",
    "print(v1-earth.get_v(epoch=ld))\n",
    "\n",
    "vinf = norm(v1-earth.get_v(epoch=ld))\n",
    "\n",
    "print(norm(vinf))\n",
    "\n",
    "print(\"******\")\n",
    "\n",
    "v1, v2 = lambert_bate(mu, r1, r2, tof=tof*u_day, grade='pro')\n",
    "\n",
    "\n",
    "print(norm(v1))\n",
    "print(norm(v2))\n",
    "print(norm(earth.get_v(epoch=ld)))\n",
    "print(v1-earth.get_v(epoch=ld))\n",
    "\n",
    "vinf = norm(v1-earth.get_v(epoch=ld))\n",
    "\n",
    "print(norm(vinf))"
   ]
  },
  {
   "cell_type": "code",
   "execution_count": 35,
   "metadata": {},
   "outputs": [
    {
     "data": {
      "text/plain": [
       "0.034802930935512386"
      ]
     },
     "execution_count": 35,
     "metadata": {},
     "output_type": "execute_result"
    }
   ],
   "source": [
    "norm([r2[0], r2[1]])/1.5e8"
   ]
  },
  {
   "cell_type": "code",
   "execution_count": 36,
   "metadata": {},
   "outputs": [
    {
     "data": {
      "text/plain": [
       "1.0126717797448728"
      ]
     },
     "execution_count": 36,
     "metadata": {},
     "output_type": "execute_result"
    }
   ],
   "source": [
    "norm([r1[0], r1[1]])/1.5e8"
   ]
  },
  {
   "cell_type": "code",
   "execution_count": null,
   "metadata": {},
   "outputs": [],
   "source": [
    "tof"
   ]
  },
  {
   "cell_type": "code",
   "execution_count": 31,
   "metadata": {},
   "outputs": [
    {
     "data": {
      "text/plain": [
       "(array([ 8.88099826e+04, -1.51900741e+08,  7.67777168e+06]),\n",
       " array([-5.194324e+06, -5.215249e+05,  1.465447e+08]))"
      ]
     },
     "execution_count": 31,
     "metadata": {},
     "output_type": "execute_result"
    }
   ],
   "source": [
    "r1, r2"
   ]
  },
  {
   "cell_type": "code",
   "execution_count": 32,
   "metadata": {},
   "outputs": [
    {
     "data": {
      "image/png": "[encoded data removed]",
      "text/plain": [
       "<Figure size 432x288 with 1 Axes>"
      ]
     },
     "metadata": {
      "needs_background": "light"
     },
     "output_type": "display_data"
    }
   ],
   "source": [
    "plt.plot(0, 0,'.')\n",
    "plt.plot(r1[0]/1.5e8, r1[1]/1.5e8,'o')\n",
    "plt.plot(r2[0]/1.5e8, r2[1]/1.5e8,'x')\n",
    "plt.grid()\n",
    "ax = plt.gca()\n",
    "ax.set_aspect('equal','box')"
   ]
  },
  {
   "cell_type": "code",
   "execution_count": null,
   "metadata": {},
   "outputs": [],
   "source": [
    "vinf"
   ]
  },
  {
   "cell_type": "code",
   "execution_count": null,
   "metadata": {
    "scrolled": true
   },
   "outputs": [],
   "source": [
    "u_day = 86400 #seconds\n",
    "mu = 1.32712440018e+11\n",
    "\n",
    "vinf_max = 4.1\n",
    "    \n",
    "ind = 0\n",
    "for ld in launch_dates:\n",
    "    for tof in tof_vals:\n",
    "        for ast in asteroids:\n",
    "\n",
    "            r1 = earth.get_r(epoch=ld)\n",
    "            r2 = ast.get_r(epoch=ld+tof)\n",
    "            try:\n",
    "                v1, v2 = lambert(mu, r1, r2,tof=tof*u_day,M=0, return_='short')\n",
    "            except:\n",
    "                continue\n",
    "            vinf = norm(v1-earth.get_v(epoch=ld))\n",
    "            \n",
    "            if vinf<vinf_max:\n",
    "                \n",
    "                print(f'{ind}: date: {ld}, tof: {tof}, ast: {ast}, vinf: {vinf}')\n",
    "                ind += 1\n",
    "\n"
   ]
  },
  {
   "cell_type": "code",
   "execution_count": null,
   "metadata": {},
   "outputs": [],
   "source": []
  }
 ],
 "metadata": {
  "kernelspec": {
   "display_name": "Python 3",
   "language": "python",
   "name": "python3"
  },
  "language_info": {
   "codemirror_mode": {
    "name": "ipython",
    "version": 3
   },
   "file_extension": ".py",
   "mimetype": "text/x-python",
   "name": "python",
   "nbconvert_exporter": "python",
   "pygments_lexer": "ipython3",
   "version": "3.7.3"
  }
 },
 "nbformat": 4,
 "nbformat_minor": 2
}
