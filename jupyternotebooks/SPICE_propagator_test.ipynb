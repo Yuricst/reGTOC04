{
 "cells": [
  {
   "cell_type": "markdown",
   "metadata": {},
   "source": [
    "# Test SPICE propagator developed\n",
    "\n",
    "2019/11/07\n",
    "Development notebook is SPICE_propagator_develop\n",
    "\n",
    "Developed function is spicegator.py"
   ]
  },
  {
   "cell_type": "code",
   "execution_count": 11,
   "metadata": {},
   "outputs": [],
   "source": [
    "import spiceypy as spice\n",
    "import pandas as pd\n",
    "import spicegator as sg"
   ]
  },
  {
   "cell_type": "code",
   "execution_count": 12,
   "metadata": {},
   "outputs": [],
   "source": [
    "# load spice kernels\n",
    "spice.furnsh('../spice/naif0012.tls')\n",
    "\n",
    "# define gravitational parameters\n",
    "MU = 1.32712440018*10**11      # sun's gravitational parameter [km^3/s^2]\n",
    "au2km = 1.49597870691*10**8    # 1 astronomical unit [AU] to [km]\n",
    "g0 = 9.80665                   # gravitational acceleration [m/s^2]\n"
   ]
  },
  {
   "cell_type": "code",
   "execution_count": 13,
   "metadata": {},
   "outputs": [
    {
     "name": "stdout",
     "output_type": "stream",
     "text": [
      "(1436, 8)\n"
     ]
    },
    {
     "data": {
      "text/plain": [
       "(10, 8)"
      ]
     },
     "execution_count": 13,
     "metadata": {},
     "output_type": "execute_result"
    }
   ],
   "source": [
    "# import ephemerides data from GTOC4 into pandas dataframe\n",
    "elmnts = ['Name','Epoch','a','e','i','LAN','periap','theta']\n",
    "df = pd.read_fwf('../gtoc4_problem_data.txt', sep='\\t', skiprows=1)\n",
    "# reassign column names\n",
    "df.columns =  ['Name','Epoch','a','e','i','LAN','omega','M0']\n",
    "num,tmp = df.shape\n",
    "print(df.shape)\n",
    "\n",
    "\n",
    "# create smaller pandas dataframe to test propagator\n",
    "# FIXME : create here spacecraft dataframe, then merge?\n",
    "#  df1.merge(df2, left_on='lkey', right_on='rkey')\n",
    "el_pd1 = df[0:10]\n",
    "el_pd1.shape"
   ]
  },
  {
   "cell_type": "code",
   "execution_count": 15,
   "metadata": {},
   "outputs": [
    {
     "name": "stdout",
     "output_type": "stream",
     "text": [
      "Current time-interval size with 1000 steps : 3.833 [days]\n"
     ]
    },
    {
     "ename": "NameError",
     "evalue": "name 'au2km' is not defined",
     "output_type": "error",
     "traceback": [
      "\u001b[1;31m---------------------------------------------------------------------------\u001b[0m",
      "\u001b[1;31mNameError\u001b[0m                                 Traceback (most recent call last)",
      "\u001b[1;32m<ipython-input-15-eecce980ad82>\u001b[0m in \u001b[0;36m<module>\u001b[1;34m\u001b[0m\n\u001b[0;32m     10\u001b[0m \u001b[1;33m\u001b[0m\u001b[0m\n\u001b[0;32m     11\u001b[0m \u001b[1;31m# call function to propagate\u001b[0m\u001b[1;33m\u001b[0m\u001b[1;33m\u001b[0m\u001b[1;33m\u001b[0m\u001b[0m\n\u001b[1;32m---> 12\u001b[1;33m \u001b[0msv\u001b[0m \u001b[1;33m=\u001b[0m \u001b[0msg\u001b[0m\u001b[1;33m.\u001b[0m\u001b[0mpropagate_spice\u001b[0m\u001b[1;33m(\u001b[0m\u001b[0metr_MJD\u001b[0m\u001b[1;33m,\u001b[0m \u001b[0mel_pd1\u001b[0m\u001b[1;33m,\u001b[0m \u001b[0mMU\u001b[0m\u001b[1;33m=\u001b[0m\u001b[1;36m1.32712440018\u001b[0m\u001b[1;33m*\u001b[0m\u001b[1;36m10\u001b[0m\u001b[1;33m**\u001b[0m\u001b[1;36m11\u001b[0m\u001b[1;33m,\u001b[0m \u001b[0mstep\u001b[0m\u001b[1;33m=\u001b[0m\u001b[0msteps\u001b[0m\u001b[1;33m)\u001b[0m\u001b[1;33m\u001b[0m\u001b[1;33m\u001b[0m\u001b[0m\n\u001b[0m\u001b[0;32m     13\u001b[0m \u001b[1;33m\u001b[0m\u001b[0m\n",
      "\u001b[1;32m~\\Documents\\GitHub\\reGTOC04\\jupyternotebooks\\spicegator.py\u001b[0m in \u001b[0;36mpropagate_spice\u001b[1;34m(etr_mjd, eldf, MU, step)\u001b[0m\n\u001b[0;32m     66\u001b[0m     \u001b[1;31m# propagate over time array\u001b[0m\u001b[1;33m\u001b[0m\u001b[1;33m\u001b[0m\u001b[1;33m\u001b[0m\u001b[0m\n\u001b[0;32m     67\u001b[0m     \u001b[1;32mfor\u001b[0m \u001b[0mi\u001b[0m \u001b[1;32min\u001b[0m \u001b[0mrange\u001b[0m\u001b[1;33m(\u001b[0m\u001b[0mstep\u001b[0m\u001b[1;33m)\u001b[0m\u001b[1;33m:\u001b[0m\u001b[1;33m\u001b[0m\u001b[1;33m\u001b[0m\u001b[0m\n\u001b[1;32m---> 68\u001b[1;33m         \u001b[1;31m# prepare orbital elements for spice.conics() function\u001b[0m\u001b[1;33m\u001b[0m\u001b[1;33m\u001b[0m\u001b[1;33m\u001b[0m\u001b[0m\n\u001b[0m\u001b[0;32m     69\u001b[0m         \u001b[1;32mfor\u001b[0m \u001b[0mj\u001b[0m \u001b[1;32min\u001b[0m \u001b[0mrange\u001b[0m\u001b[1;33m(\u001b[0m\u001b[0mbdy\u001b[0m\u001b[1;33m)\u001b[0m\u001b[1;33m:\u001b[0m\u001b[1;33m\u001b[0m\u001b[1;33m\u001b[0m\u001b[0m\n\u001b[0;32m     70\u001b[0m             \u001b[1;31m# convert orbital elements to spice-format\u001b[0m\u001b[1;33m\u001b[0m\u001b[1;33m\u001b[0m\u001b[1;33m\u001b[0m\u001b[0m\n",
      "\u001b[1;31mNameError\u001b[0m: name 'au2km' is not defined"
     ]
    }
   ],
   "source": [
    "# test run function with el_pd1\n",
    "# propagation range time\n",
    "etr_utc = ['Jan 1, 2015', 'Jun 30, 2025']  # currently working with 6 months ~ 182 days\n",
    "etr_MJD = [spice.str2et(etr_utc[0]), spice.str2et(etr_utc[1])]\n",
    "# set time-step in seconds\n",
    "steps = 1000\n",
    "dt = (spice.str2et(etr_utc[1]) - spice.str2et(etr_utc[0]))/steps\n",
    "dt_day = dt/(60*60*24)\n",
    "print(f'Current time-interval size with {steps} steps : {dt_day:.4} [days]')\n",
    "\n",
    "# call function to propagate\n",
    "sv = sg.propagate_spice(etr_MJD, el_pd1, MU=1.32712440018*10**11, step=steps)\n",
    "\n"
   ]
  },
  {
   "cell_type": "code",
   "execution_count": 16,
   "metadata": {},
   "outputs": [
    {
     "ename": "NameError",
     "evalue": "name 'plt' is not defined",
     "output_type": "error",
     "traceback": [
      "\u001b[1;31m---------------------------------------------------------------------------\u001b[0m",
      "\u001b[1;31mNameError\u001b[0m                                 Traceback (most recent call last)",
      "\u001b[1;32m<ipython-input-16-4128a1dec02a>\u001b[0m in \u001b[0;36m<module>\u001b[1;34m\u001b[0m\n\u001b[0;32m      1\u001b[0m \u001b[1;31m# plot propagated trajectories\u001b[0m\u001b[1;33m\u001b[0m\u001b[1;33m\u001b[0m\u001b[1;33m\u001b[0m\u001b[0m\n\u001b[1;32m----> 2\u001b[1;33m \u001b[0mfig\u001b[0m \u001b[1;33m=\u001b[0m \u001b[0mplt\u001b[0m\u001b[1;33m.\u001b[0m\u001b[0mfigure\u001b[0m\u001b[1;33m(\u001b[0m\u001b[0mfigsize\u001b[0m\u001b[1;33m=\u001b[0m\u001b[1;33m(\u001b[0m\u001b[1;36m9\u001b[0m\u001b[1;33m,\u001b[0m \u001b[1;36m9\u001b[0m\u001b[1;33m)\u001b[0m\u001b[1;33m)\u001b[0m\u001b[1;33m\u001b[0m\u001b[1;33m\u001b[0m\u001b[0m\n\u001b[0m\u001b[0;32m      3\u001b[0m \u001b[0max\u001b[0m \u001b[1;33m=\u001b[0m \u001b[0mfig\u001b[0m\u001b[1;33m.\u001b[0m\u001b[0madd_subplot\u001b[0m\u001b[1;33m(\u001b[0m\u001b[1;36m111\u001b[0m\u001b[1;33m,\u001b[0m \u001b[0mprojection\u001b[0m \u001b[1;33m=\u001b[0m \u001b[1;34m'3d'\u001b[0m\u001b[1;33m)\u001b[0m\u001b[1;33m\u001b[0m\u001b[1;33m\u001b[0m\u001b[0m\n\u001b[0;32m      4\u001b[0m \u001b[1;33m\u001b[0m\u001b[0m\n\u001b[0;32m      5\u001b[0m \u001b[1;31m# store number of bodies to propagate\u001b[0m\u001b[1;33m\u001b[0m\u001b[1;33m\u001b[0m\u001b[1;33m\u001b[0m\u001b[0m\n",
      "\u001b[1;31mNameError\u001b[0m: name 'plt' is not defined"
     ]
    }
   ],
   "source": [
    "# plot propagated trajectories\n",
    "fig = plt.figure(figsize=(9, 9))\n",
    "ax = fig.add_subplot(111, projection = '3d')\n",
    "\n",
    "# store number of bodies to propagate\n",
    "[bdy,tmp] = el_pd1.shape\n",
    "# store number of time steps\n",
    "[tmp,steps,tmp] = sv.shape\n",
    "\n",
    "# FIXME - ploting...? make a function?\n",
    "for i in range(bdy):\n",
    "    tmpx = []\n",
    "    tmpy = []\n",
    "    tmpz = []\n",
    "    for j in range(steps):\n",
    "        tmpx.append(sv[(i,j,0)])\n",
    "        tmpy.append(sv[(i,j,1)])\n",
    "        tmpz.append(sv[(i,j,2)])\n",
    "    ax.plot(tmpx,tmpy,tmpz)\n",
    "\n",
    "        # first:  number of arrays = number of bodies to propagate\n",
    "        # second: rows = timesteps\n",
    "        # third:  columns = x, y, z, vx, vy, vz\n",
    "    \n",
    "#ax.plot(sv_prop_Earth[0], sv_prop_Earth[1], sv_prop_Earth[2])\n",
    "\n",
    "plt.title(f'SPICE propagation between {etr_utc[0]} and {etr_utc[1]}')\n",
    "plt.show()"
   ]
  },
  {
   "cell_type": "code",
   "execution_count": null,
   "metadata": {},
   "outputs": [],
   "source": []
  }
 ],
 "metadata": {
  "kernelspec": {
   "display_name": "Python 3",
   "language": "python",
   "name": "python3"
  },
  "language_info": {
   "codemirror_mode": {
    "name": "ipython",
    "version": 3
   },
   "file_extension": ".py",
   "mimetype": "text/x-python",
   "name": "python",
   "nbconvert_exporter": "python",
   "pygments_lexer": "ipython3",
   "version": "3.7.3"
  }
 },
 "nbformat": 4,
 "nbformat_minor": 2
}
