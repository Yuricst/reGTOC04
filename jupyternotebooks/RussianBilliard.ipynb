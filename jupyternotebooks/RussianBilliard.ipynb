{
 "cells": [
  {
   "cell_type": "markdown",
   "metadata": {},
   "source": [
    "# Russian Billiard\n",
    "Recreate Method proposed by Grigoriev (2013)"
   ]
  },
  {
   "cell_type": "code",
   "execution_count": 4,
   "metadata": {},
   "outputs": [
    {
     "name": "stdout",
     "output_type": "stream",
     "text": [
      "gzip was not found on your system! You should solve this issue for astroquery.eso to be at its best!\n",
      "On POSIX system: make sure gzip is installed and in your path!On Windows: same for 7-zip (http://www.7-zip.org)!\n"
     ]
    }
   ],
   "source": [
    "# basic modules\n",
    "import numpy as np\n",
    "import pandas as pd\n",
    "import matplotlib.pyplot as plt\n",
    "from mpl_toolkits.mplot3d import axes3d\n",
    "import matplotlib.animation as animation\n",
    "#import plotly.express as px\n",
    "\n",
    "# spice module\n",
    "import spiceypy as spice\n",
    "\n",
    "# astropy and poliastro modules\n",
    "import astropy.units as u\n",
    "from astropy import time\n",
    "\n",
    "import poliastro\n",
    "from poliastro import iod\n",
    "from poliastro.twobody import Orbit\n",
    "from poliastro.maneuver import Maneuver\n"
   ]
  },
  {
   "cell_type": "code",
   "execution_count": 5,
   "metadata": {},
   "outputs": [],
   "source": [
    "# load spice kernels\n",
    "spice.furnsh('../spice/naif0012.tls')\n",
    "\n",
    "# define gravitational parameters\n",
    "MU = 1.32712440018*10**11   # sun's gravitational parameter [km^3/s^2]\n",
    "AU = 1.49597870691*10**8    # astronomical unit [AU] to [km]\n",
    "g0 = 9.80665                # gravitational acceleration [m/s^2]\n",
    "\n",
    "# define spacecraft parameters\n",
    "msc_min = 500               # minimum spacecraft mass [kg]\n",
    "tdep_min = 57023.0          # earliest departure time 00:00:00 January 1, 2015 [MJD]\n",
    "tdep_max = 61401.0          # latest depature time 24:00:00 December 31, 2025 [MJD]\n",
    "\n",
    "\n",
    "# conversion of MJD to JD\n",
    "def MJD2JD(mjd):\n",
    "    \"\"\"function converts MJD (Modified Julian Date) to JD (Julian Date)\n",
    "    Args:\n",
    "        mjd (float): ephemeris in MJD\n",
    "    Returns:\n",
    "        (float): ephemeris equivalent in JD\n",
    "    \"\"\"\n",
    "    jd = mjd + 2400000.5\n",
    "    return jd\n"
   ]
  },
  {
   "cell_type": "code",
   "execution_count": null,
   "metadata": {},
   "outputs": [
    {
     "name": "stdout",
     "output_type": "stream",
     "text": [
      "(1436, 8)\n"
     ]
    },
    {
     "data": {
      "text/html": [
       "<div>\n",
       "<style scoped>\n",
       "    .dataframe tbody tr th:only-of-type {\n",
       "        vertical-align: middle;\n",
       "    }\n",
       "\n",
       "    .dataframe tbody tr th {\n",
       "        vertical-align: top;\n",
       "    }\n",
       "\n",
       "    .dataframe thead th {\n",
       "        text-align: right;\n",
       "    }\n",
       "</style>\n",
       "<table border=\"1\" class=\"dataframe\">\n",
       "  <thead>\n",
       "    <tr style=\"text-align: right;\">\n",
       "      <th></th>\n",
       "      <th>Name</th>\n",
       "      <th>Epoch</th>\n",
       "      <th>a</th>\n",
       "      <th>e</th>\n",
       "      <th>i</th>\n",
       "      <th>LAN</th>\n",
       "      <th>omega</th>\n",
       "      <th>M0</th>\n",
       "    </tr>\n",
       "  </thead>\n",
       "  <tbody>\n",
       "    <tr>\n",
       "      <th>0</th>\n",
       "      <td>'1580'</td>\n",
       "      <td>54800.0</td>\n",
       "      <td>2.196803</td>\n",
       "      <td>0.487683</td>\n",
       "      <td>52.090794</td>\n",
       "      <td>62.324795</td>\n",
       "      <td>159.539839</td>\n",
       "      <td>3.521687</td>\n",
       "    </tr>\n",
       "    <tr>\n",
       "      <th>1</th>\n",
       "      <td>'1620'</td>\n",
       "      <td>54800.0</td>\n",
       "      <td>1.245551</td>\n",
       "      <td>0.335511</td>\n",
       "      <td>13.337693</td>\n",
       "      <td>337.266017</td>\n",
       "      <td>276.806539</td>\n",
       "      <td>136.950031</td>\n",
       "    </tr>\n",
       "    <tr>\n",
       "      <th>2</th>\n",
       "      <td>'1943'</td>\n",
       "      <td>54800.0</td>\n",
       "      <td>1.430317</td>\n",
       "      <td>0.255816</td>\n",
       "      <td>8.704065</td>\n",
       "      <td>246.401915</td>\n",
       "      <td>338.253875</td>\n",
       "      <td>288.405238</td>\n",
       "    </tr>\n",
       "  </tbody>\n",
       "</table>\n",
       "</div>"
      ],
      "text/plain": [
       "     Name    Epoch         a         e          i         LAN       omega  \\\n",
       "0  '1580'  54800.0  2.196803  0.487683  52.090794   62.324795  159.539839   \n",
       "1  '1620'  54800.0  1.245551  0.335511  13.337693  337.266017  276.806539   \n",
       "2  '1943'  54800.0  1.430317  0.255816   8.704065  246.401915  338.253875   \n",
       "\n",
       "           M0  \n",
       "0    3.521687  \n",
       "1  136.950031  \n",
       "2  288.405238  "
      ]
     },
     "execution_count": 6,
     "metadata": {},
     "output_type": "execute_result"
    }
   ],
   "source": [
    "# import ephemerides data from GTOC4 into pandas dataframe\n",
    "df = pd.read_csv('../gtoc4_problem_data.txt', skiprows=2,delimiter= '\\s+',header=None)\n",
    "df.columns = ['Name','Epoch','a','e','i','LAN','omega','M0']\n",
    "df.head()\n",
    "\n",
    "num,tmp = df.shape\n",
    "print(df.shape)\n",
    "df.head(3)"
   ]
  },
  {
   "cell_type": "code",
   "execution_count": null,
   "metadata": {},
   "outputs": [],
   "source": []
  }
 ],
 "metadata": {
  "kernelspec": {
   "display_name": "Python 3",
   "language": "python",
   "name": "python3"
  },
  "language_info": {
   "codemirror_mode": {
    "name": "ipython",
    "version": 3
   },
   "file_extension": ".py",
   "mimetype": "text/x-python",
   "name": "python",
   "nbconvert_exporter": "python",
   "pygments_lexer": "ipython3",
   "version": "3.7.3"
  }
 },
 "nbformat": 4,
 "nbformat_minor": 2
}
