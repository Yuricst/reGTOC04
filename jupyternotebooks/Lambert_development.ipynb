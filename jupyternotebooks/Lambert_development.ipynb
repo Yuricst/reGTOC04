{
 "cells": [
  {
   "cell_type": "markdown",
   "metadata": {},
   "source": [
    "# Development script for Lambert problem solver\n",
    "\n",
    "Formulation follows Curtis Chapter 5.3 Lambert's Problem pg.247-\n",
    "\n",
    "Python implementation by Yuri Shimane"
   ]
  },
  {
   "cell_type": "code",
   "execution_count": 1,
   "metadata": {},
   "outputs": [],
   "source": [
    "import numpy as np\n",
    "import scipy.optimize as opt\n",
    "import matplotlib\n",
    "import matplotlib.pyplot as plt\n",
    "\n",
    "# initial and final position vectors [km]\n",
    "r_in = np.array([5000, 10000, 2100])\n",
    "r_fn = np.array([-14600, 2500, 7000])\n",
    "\n",
    "# time of flight [s]\n",
    "dt = 3600\n",
    "\n",
    "# gravitational parameter [km^3/s^2]\n",
    "mu_E = 398600\n",
    "\n",
    "# solve Lambert problem\n",
    "#v1, v2 = lb.lambert(r1=r_in, r2=r_fn, tof=dt, mu=mu_E, grade='pro')\n",
    "# obtain orbital elements\n",
    "#elements = oc.sv2el(r_in,v1,mu_E)\n"
   ]
  },
  {
   "cell_type": "code",
   "execution_count": 2,
   "metadata": {},
   "outputs": [],
   "source": [
    "from numpy import linalg as LA  # linear algebra functions in numpy\n",
    "\n",
    "# define functions that will be used repeatedly in iterative solving step\n",
    "def _Stumpff_S(z):\n",
    "    \"\"\"\n",
    "    Stumpff function S(z)\n",
    "    Args:\n",
    "        z (float): universal anomaly^2/semi-major axis of transfer trajectory\n",
    "    Returns:\n",
    "        (float): value of Stumpff functio S(z) evaluated for input z\n",
    "    \"\"\"\n",
    "    if z > 0:\n",
    "        S = (np.sqrt(z) - np.sin(np.sqrt(z)))/np.power(z,1.5)\n",
    "    elif z == 0:\n",
    "        S = 1/6\n",
    "    elif z < 0:\n",
    "        S = (np.sinh(np.sqrt(-z)) - np.sqrt(-z))/np.power(-z,1.5)\n",
    "\n",
    "    return S\n",
    "\n",
    "\n",
    "def _Stumpff_C(z):\n",
    "    \"\"\"\n",
    "    Stumpff function C(z)\n",
    "    Args:\n",
    "        z (float): universal anomaly^2/semi-major axis of transfer trajectory\n",
    "    Returns:\n",
    "        (float): value of Stumpff functio S(z) evaluated for input z\n",
    "    \"\"\"\n",
    "    if z > 0:\n",
    "        C = (1 - np.cos(np.sqrt(z)))/z\n",
    "    elif z == 0:\n",
    "        C = 1/2\n",
    "    elif z < 0:\n",
    "        C = (np.cosh(np.sqrt(-z)) - 1)/(-z)\n",
    "\n",
    "    return C\n",
    "\n",
    "def _y_538(r1,r2,A,z):\n",
    "    \"\"\"\n",
    "    Intermediate function in Lambert problem derivation (eq.5.38 in Curtis)\n",
    "    Args:\n",
    "        r1 (1x3 numpy array): position vector of departure\n",
    "        r2 (1x3 numpy array): position vector of arrival\n",
    "        A (float): intermediate value related only to input parameters\n",
    "        z (float): universal anomaly^2/semi-major axis of transfer trajectory\n",
    "    Returns:\n",
    "        (float): value of function evaluated for input z\n",
    "    \"\"\"\n",
    "\n",
    "    y = LA.norm(r1) + LA.norm(r2) + A*(z*_Stumpff_S(z) - 1)/np.sqrt(_Stumpff_C(z))\n",
    "\n",
    "    return y"
   ]
  },
  {
   "cell_type": "code",
   "execution_count": 3,
   "metadata": {},
   "outputs": [],
   "source": [
    "# Lambert solver\n",
    "def lambert(r1, r2, tof, mu, grade='pro', bracket_window=(-5000,5000), method=None, **kwargs):\n",
    "    \"\"\"\n",
    "    Function takes in classic parameters to Lambert problem to determine orbitalelements\n",
    "    Args:\n",
    "        r1 (1x3 numpy array): initial position vector of departure [km]\n",
    "        r2 (1x3 numpy array): final position vector of arrival [km]\n",
    "        tof (float): time of flight [s]\n",
    "        mu (float): gravitational parameter [km^3/s^2]\n",
    "        grade (str): trajectory orientation ('pro' for prograde or 'retro' for retrograde)\n",
    "        bracket_window (tuple): 2-element tuple of min and max for bracket method in scipy.optimize.root_scalar; (-5000,5000) by default\n",
    "        **kwargs: other arguments for scipy.optimize.root_scalar\n",
    "    Returns:\n",
    "        (tuple): velocity vector at position 1 and 2 of solution trajectory to Lambert problem\n",
    "    \"\"\"\n",
    "\n",
    "    # compute dtheta [rad]\n",
    "    tmp = np.cross(r1,r2)\n",
    "    # retrgrade orbit\n",
    "    if grade=='retro':\n",
    "        if tmp[1] < 0:\n",
    "            dtheta = np.arccos(np.dot(r1,r2)/(LA.norm(r1)*LA.norm(r2)))\n",
    "        else: \n",
    "            dtheta = 2*np.pi - np.arccos(np.dot(r1,r2)/(LA.norm(r1)*LA.norm(r2)))\n",
    "    # prograde orbit\n",
    "    else:\n",
    "        if tmp[1] < 0:\n",
    "            dtheta = 2*np.pi - np.arccos(np.dot(r1,r2)/(LA.norm(r1)*LA.norm(r2)))\n",
    "        else:\n",
    "            dtheta = np.arccos(np.dot(r1,r2)/(LA.norm(r1)*LA.norm(r2)))\n",
    "    \n",
    "    print('dtheta: {}'.format(dtheta*360/(2*np.pi)))\n",
    "    \n",
    "    \n",
    "    # compute input parameter A where A = sin(dtheta) * sqrt[r1*r2 / (1 - cos(dtheta))]\n",
    "    A = np.sin(dtheta) * np.sqrt(LA.norm(r1)*LA.norm(r2)/(1 - np.cos(dtheta)))\n",
    "    print(f'Value of A: {A}')\n",
    "    \n",
    "    # if orbit is retrograde, override bracket_window to only have positive z-values\n",
    "    bracket_window = (0.1,5000)\n",
    "    \n",
    "    # Scipy - NR method scipy.optimize.rootscalar\n",
    "    def residue_Fz(z,r1,r2,A):\n",
    "        \"\"\"Function computes residue of F(z) as defined by Curtis eq. (5.40)\n",
    "        Args:\n",
    "            z \n",
    "        Returns:\n",
    "            (tuple): tuple containing residue of F computed at z and Fdot eq. (5.43)\n",
    "        \"\"\"\n",
    "        residue = np.power(_y_538(r1,r2,A,z)/_Stumpff_C(z), 3/2) * _Stumpff_S(z) + A*np.sqrt(_y_538(r1,r2,A,z)) - np.sqrt(mu)*tof\n",
    "        \n",
    "        #if z == 0:\n",
    "        #    Fdot = np.sqrt(2) * np.power(_y_538(r1,r2,A,0),1.5)/40 + (A/8)*(np.sqrt(_y_538(r1,r2,A,0)) + A*np.sqrt(1/(2*_y_538(r1,r2,A,0))))\n",
    "        #else:\n",
    "        #    Fdot = np.power(_y_538(r1,r2,A,z)/_Stumpff_C(z), 1.5) * (((1/(2*z)) * (_Stumpff_C(z) - 3*_Stumpff_S(z)/(2*_Stumpff_C(z)))) + 3*np.power(_Stumpff_S(z),2)/(4*_Stumpff_C(z))) + (A/8)*(3*_Stumpff_S(z)*np.sqrt(_y_538(r1,r2,A,z))/_Stumpff_C(z) + A*np.sqrt(_Stumpff_C(z)/_y_538(r1,r2,A,z)))\n",
    "    \n",
    "        return residue#, Fdot\n",
    "    \n",
    "    # solve to find z-value\n",
    "    sol = opt.root_scalar(residue_Fz, args=(r1,r2,A), fprime=False, bracket=bracket_window, method=method, **kwargs)\n",
    "    \n",
    "    if sol.converged:\n",
    "        z1 = sol.root\n",
    "    else:\n",
    "        raise RuntimeError(f'F(z) = 0 calculation failed with initial guess of z {z0}')  # FIXME - document failure\n",
    "    \n",
    "\n",
    "    # display orbit type\n",
    "    if z1 > 0:\n",
    "        print(f'Transfer trajectory is an ellipse; z = {z1}')\n",
    "    elif z1 == 0:\n",
    "        print(f'Transfer trajectory is a parabola; z = {z1}')\n",
    "    elif z1 < 0:\n",
    "        print(f'Transfer trajectory is a hyperbolla; z = {z1}')\n",
    "\n",
    "    # calculate Lagrange functions\n",
    "    f    = 1 - _y_538(r1,r2,A,z1)/LA.norm(r1)\n",
    "    g    = A*np.sqrt(_y_538(r1,r2,A,z1)/mu)\n",
    "    gdot = 1 - _y_538(r1,r2,A,z1)/LA.norm(r2)\n",
    "    print(f'Lagrange functions f: {f}, g: {g}, gdot: {gdot}')\n",
    "\n",
    "    # calculate initial and final velocity vectors\n",
    "    v1 = (1/g)*(r2 - f*r1)\n",
    "    v2 = (1/g)*(gdot*r2 - r1)\n",
    "    print('Velocity at r1: {}, velocity at r2: {}'.format(v1,v2))\n",
    "\n",
    "    return v1, v2\n"
   ]
  },
  {
   "cell_type": "code",
   "execution_count": 4,
   "metadata": {},
   "outputs": [
    {
     "name": "stdout",
     "output_type": "stream",
     "text": [
      "dtheta: 100.29252420729621\n",
      "Value of A: 12372.272033956451\n",
      "Transfer trajectory is an ellipse; z = 1.5398544345070695\n",
      "Lagrange functions f: -0.18876687819739923, g: 2278.8782352207904, gdot: 0.1745680621662019\n",
      "Velocity at r1: [-5.99249464  1.92536342  3.24563653], velocity at r2: [-3.31246031 -4.19661731 -0.38528762]\n"
     ]
    }
   ],
   "source": [
    "# solve Lambert problem in retrograde\n",
    "v1, v2 = lambert(r1=r_in, r2=r_fn, tof=dt, mu=mu_E, grade='retro')"
   ]
  },
  {
   "cell_type": "code",
   "execution_count": 5,
   "metadata": {},
   "outputs": [
    {
     "name": "stdout",
     "output_type": "stream",
     "text": [
      "dtheta: 259.70747579270375\n",
      "Value of A: -12372.272033956451\n",
      "Transfer trajectory is an ellipse; z = 4.129500696951414\n",
      "Lagrange functions f: -2.250316556019863, g: -3768.214379991249, gdot: -1.2568891702947025\n",
      "Velocity at r1: [ 0.8885952  -6.63528214 -3.11172974], velocity at r2: [-3.54294648  3.48765267  2.89214548]\n"
     ]
    }
   ],
   "source": [
    "# solve Lamert problem in prograde\n",
    "v1, v2 = lambert(r1=r_in, r2=r_fn, tof=dt, mu=mu_E, grade='pro')"
   ]
  },
  {
   "cell_type": "code",
   "execution_count": 16,
   "metadata": {},
   "outputs": [
    {
     "name": "stdout",
     "output_type": "stream",
     "text": [
      "dtheta: 259.70747579270375\n",
      "Value of A: -12372.272033956451\n",
      "Transfer trajectory is an ellipse; z = 0.6596468156562508\n",
      "Lagrange functions f: -2.853170426318484, g: -4102.8145001786415, gdot: -1.6754866661685446\n",
      "Velocity at r1: [ 0.08144357 -7.56351628 -3.16652335], velocity at r2: [-4.74359865  3.45828861  3.37046841]\n"
     ]
    }
   ],
   "source": [
    "# solve Lambert problem in prograde with more extreme tof\n",
    "dt2 = 3100\n",
    "v1, v2 = lambert(r1=r_in, r2=r_fn, tof=dt2, mu=mu_E, grade='pro')\n"
   ]
  },
  {
   "cell_type": "code",
   "execution_count": null,
   "metadata": {},
   "outputs": [],
   "source": []
  }
 ],
 "metadata": {
  "kernelspec": {
   "display_name": "Python 3",
   "language": "python",
   "name": "python3"
  },
  "language_info": {
   "codemirror_mode": {
    "name": "ipython",
    "version": 3
   },
   "file_extension": ".py",
   "mimetype": "text/x-python",
   "name": "python",
   "nbconvert_exporter": "python",
   "pygments_lexer": "ipython3",
   "version": "3.7.3"
  }
 },
 "nbformat": 4,
 "nbformat_minor": 2
}
