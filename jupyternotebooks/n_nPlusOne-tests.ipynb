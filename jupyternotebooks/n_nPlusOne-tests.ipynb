{
 "cells": [
  {
   "cell_type": "code",
   "execution_count": 1,
   "metadata": {},
   "outputs": [],
   "source": [
    "from orbit import Orbit, AU2km, mu, day2s\n",
    "import elements as el\n",
    "import angles as an\n",
    "from util import load_dataset\n",
    "\n",
    "import lambert_combine as lb\n",
    "#from lambert_izzo import lambert as lambert_izzo\n",
    "#from lambert import lambert as lambert_bate\n",
    "\n",
    "import sys\n",
    "\n",
    "import numpy as np\n",
    "from numpy.linalg import norm\n",
    "import pandas as pd\n",
    "import matplotlib.pyplot as plt\n",
    "from mpl_toolkits.mplot3d import axes3d\n",
    "import logging"
   ]
  },
  {
   "cell_type": "markdown",
   "metadata": {},
   "source": [
    "# Load datasets\n",
    "Created a small function to load asteroids directly into a set\n",
    "earth is also created at MJD5400"
   ]
  },
  {
   "cell_type": "code",
   "execution_count": 2,
   "metadata": {},
   "outputs": [],
   "source": [
    "asteroids, earth = load_dataset()\n",
    "ISP = 3000*9.80665/1000 #km/s"
   ]
  },
  {
   "cell_type": "code",
   "execution_count": 3,
   "metadata": {},
   "outputs": [
    {
     "data": {
      "text/plain": [
       "(set, 1436)"
      ]
     },
     "execution_count": 3,
     "metadata": {},
     "output_type": "execute_result"
    }
   ],
   "source": [
    "type(asteroids), len(asteroids)"
   ]
  },
  {
   "cell_type": "code",
   "execution_count": 4,
   "metadata": {},
   "outputs": [],
   "source": [
    "# defined a helper function get the specific asteroid im looking for\n",
    "\n",
    "def select_asteroid(index):   \n",
    "    \"\"\"Helper function to get the asteroid as orbit object at given index\"\"\"\n",
    "    #maybe just using lists is easier?\n",
    "    #but this function can also be memoizeddddd\n",
    "    if index == -1:\n",
    "        return earth\n",
    "    return [ast for ast in asteroids if ast.index==index][0]"
   ]
  },
  {
   "cell_type": "code",
   "execution_count": 5,
   "metadata": {},
   "outputs": [
    {
     "data": {
      "text/plain": [
       "'2006QV89'"
      ]
     },
     "execution_count": 5,
     "metadata": {},
     "output_type": "execute_result"
    }
   ],
   "source": [
    "select_asteroid(1057)"
   ]
  },
  {
   "cell_type": "code",
   "execution_count": 6,
   "metadata": {},
   "outputs": [],
   "source": [
    "# >>> CREATED lambert_combine.py\n",
    "# tool to use izzo and Bate lambert algorithm\n",
    "#def lambert(*args):\n",
    "#    try:\n",
    "#        return lambert_izzo(*args)\n",
    "#    except:\n",
    "#        try:\n",
    "#            return lambert_bate(*args)\n",
    "#        except:\n",
    "#            raise RunTimeError('Failed to solve Lamberts')"
   ]
  },
  {
   "cell_type": "markdown",
   "metadata": {},
   "source": [
    "# Idea\n",
    "define a node as a (`Orbit`, `asteroid index`) which describes the position and state vector fully. Then the children nodes are defined by the set of all possible new orbits to transition into. Cost_so_far is defined as total deltavs needed so far. While the velocity at a node does not match with the asteroid's velocity, we define it as a flyby or a specific asteroid. \n",
    "\n",
    "`node.len_of_chain()` returns the number of flybys it has found. Therefore the merit function is simply number of asteroids + mf/m0 and since mf/m0 will always be less than 1, this function is the explict form of the problem statement. "
   ]
  },
  {
   "cell_type": "code",
   "execution_count": 7,
   "metadata": {},
   "outputs": [],
   "source": [
    "# implemention of Dijkstra’s from https://www.redblobgames.com/pathfinding/a-star/implementation.html\n",
    "\n",
    "import heapq\n",
    "\n",
    "class PriorityQueue:\n",
    "    def __init__(self):\n",
    "        self.elements = []\n",
    "    \n",
    "    def empty(self):\n",
    "        return len(self.elements) == 0\n",
    "    \n",
    "    def put(self, item, priority):\n",
    "        heapq.heappush(self.elements, (priority, item))\n",
    "    \n",
    "    def get(self):\n",
    "        return heapq.heappop(self.elements)[1]"
   ]
  },
  {
   "cell_type": "code",
   "execution_count": 24,
   "metadata": {},
   "outputs": [],
   "source": [
    "class Node():\n",
    "    \"\"\"Node class defining sequences\"\"\"\n",
    "    def __init__(self, epoch, index, approach_orbit=None, parent=None):\n",
    "        \n",
    "        \n",
    "        self.epoch = epoch\n",
    "        self.index = index\n",
    "        self.asteroid = select_asteroid(index)\n",
    "            \n",
    "        self.approach_orbit = approach_orbit \n",
    "        #this is the orbit that defined at parents epoch and position,\n",
    "        # and gets me to this asteroid's position at required epoch\n",
    "        \n",
    "        self.parent_node = parent\n",
    "        \n",
    "        if self.parent_node is None:\n",
    "            self.visited_list = [self.index]\n",
    "        else:\n",
    "            self.visited_list = self.parent_node.visited_list + [self.index]\n",
    "\n",
    "        \n",
    "    def get_children(self):\n",
    "        \"\"\"Gets list of children nodes, which are the set of asteroids which may be potentially be visited next.\n",
    "        1)\n",
    "        The orbit that brought the spacecraft to the current asteroid & the permitted asteroids (not yet visited)\n",
    "        are propagated for 100 days. \n",
    "        2)\n",
    "        The relative distance (dr) between the spacecraft and the permitted asteroids (asteroids not yet visited)\n",
    "        are computed. \n",
    "        3)\n",
    "        At closest approach between the spacecraft and an asteroid, if dr is below a threshold distance (0.1AU), \n",
    "        this asteroid is a 'child' of the current node. \n",
    "        \"\"\"\n",
    "        permitted_asteroids = asteroid_ind.difference(set(self.visited_list)) # list of asteroids that are not visited yet\n",
    "        \n",
    "        # epoch list to propagate and search closest approach (min dr)\n",
    "        epoch_lst = np.arange(self.epoch,self.epoch+100,10)\n",
    "        \n",
    "        # search for all permitted asteroids\n",
    "        for astindx in permitted_asteroid:\n",
    "            # create orbit object for asteroid\n",
    "            ast_orbit = select_asteroid(astindx)\n",
    "            \n",
    "            # initialize relative distance list\n",
    "            dr = [0,]*len(epoch_list)\n",
    "            \n",
    "            # iterate over allowable wait-time until next asteroid\n",
    "            for i, epoch in enumerate(epoch_lst):\n",
    "                # state-vector of spacecraft\n",
    "                r_sc, v_sc = self.approach_orbit.rv(epoch)\n",
    "                # state-vector of asteroid\n",
    "                r_ast, v_ast = ast_orbit.rv(epoch)\n",
    "                # relative distance between spacecraft and asteroid\n",
    "                dr[i] = norm(r_ast - r_sc)\n",
    "                \n",
    "            # find epoch at which closest approach for the asteroid occurs \n",
    "            drmin, idx = min((drmin, idx) for (idx, drmin) in enumerate(dr))\n",
    "            \n",
    "            # check if closest approach is below threshold\n",
    "            if drmin < 0.1*AU2km:\n",
    "                # create child\n",
    "                child = create_next_node(astindx,epoch[idx])\n",
    "                \n",
    "                # append to list of children\n",
    "                children_list.append(child)\n",
    "        \n",
    "        return children_list #len(permitted_asteroids)\n",
    "    \n",
    "    \n",
    "    def len_of_chain(self):\n",
    "        \n",
    "        if self.parent_node is None:\n",
    "            return 0\n",
    "        \n",
    "        return 1 + self.parent_node.len_of_chain()\n",
    "    \n",
    "    \n",
    "    def mass_at_node(self,m_in,dv,m0=1500,mprop=1000,Isp=3000):\n",
    "        \"\"\"Function to compute remaining spacecraft mass with Tsiolkovski\n",
    "        Args:\n",
    "            m_in (float): mass of spacecraft before burn\n",
    "            dv (float): required delta V [km/s]\n",
    "            m0 (float): total (initial) wet mass [kg]\n",
    "            mprop (float): propellant mass [kg]\n",
    "            Isp (float): specific impulse [s]\n",
    "        Return:\n",
    "            (float): spacecraft mass in [kg] at current node\n",
    "        \"\"\"\n",
    "        ve = Isp*9.80665/1000 # exhaust velocity [km/s]\n",
    "        m_f = m_in * np.exp(-dv/ve)\n",
    "        \n",
    "        # if remaining mass at node has to be less than empty mass of spacecraft\n",
    "        if m_node < (m0-mprop):\n",
    "            raise Out_of_fuel\n",
    "        \n",
    "        return m_f\n",
    "    \n",
    "    \n",
    "    def create_next_node(self, target_ind, target_epoch):\n",
    "\n",
    "        t0 = self.epoch\n",
    "        r0, v0 = self.approach_orbit.rv()\n",
    "\n",
    "        # find next ast and get its position (vel not needed)\n",
    "        ast = select_asteroid(target_ind)\n",
    "        r_target, v_target = ast.rv(target_epoch)\n",
    "\n",
    "        # solve lamberts problem\n",
    "        v1, v2 = lb.lambert(mu, r0, r_target, (target_epoch-t0)*day2s)\n",
    "\n",
    "        # note that a maneouver is needed at the initial epoch to set us on a rendevousz path with target ast\n",
    "        dv = v1 - v0 # only the initial change in velocity needed\n",
    "        \n",
    "        #incrememental cost (delta V, mass)\n",
    "        if self.parent_node is None:\n",
    "            # starting at earth\n",
    "            inc_cost = max(0, norm(dv)-4.0) \n",
    "            # call mass_at_node to compute remaining mass after maneuver\n",
    "            #m_node = mass_at_node(1500, inc_cost)   # FIXME - SAYS THAT mass_at_node() is not defined...\n",
    "        else:\n",
    "            inc_cost = norm(dv)\n",
    "            # call mass_at_node?\n",
    "            \n",
    "\n",
    "        # create new orbit, index=-2 since it is a transfer\n",
    "        o_new = Orbit(name=f'Trx{self.len_of_chain()+1:2.0f}')\n",
    "        o_new.from_rv(target_epoch, r_target, v2)    \n",
    "\n",
    "        # create new node\n",
    "        new_Node = Node(epoch = target_epoch, index = target_ind, approach_orbit=o_new, parent=self)\n",
    "\n",
    "        # update cost and manouever history\n",
    "        new_Node.maneuvers = self.maneuvers + [(t0, dv)]\n",
    "        new_Node.cost = self.cost + inc_cost\n",
    "\n",
    "        return new_Node\n",
    "    \n",
    "    \n",
    "    def get_priority(self, dv=True, mf=False, count=False):\n",
    "        \n",
    "        # overall objective function is to maximise (number of asteroids + mf/m0)\n",
    "\n",
    "        priority = 0\n",
    "        \n",
    "        if count: priority += self.len_of_chain()\n",
    "        if mf   : priority += np.exp(-self.cost/ISP)\n",
    "        if dv   : priority += -self.cost\n",
    "        \n",
    "        return -priority\n",
    "        \n",
    "        \n",
    "    # printing tools\n",
    "    def __repr__(self):\n",
    "        \n",
    "        return f'MJD {self.epoch:6.2f}, {self.asteroid.index:6.0f},    {self.asteroid},'\n",
    "    \n",
    "    def history(self):\n",
    "        \n",
    "        # call print(node.history()) to get the reverse sequence of nodes\n",
    "        if self.parent_node is None:\n",
    "            return 'Epoch,         Index,    Name,\\n\\n' + repr(self)\n",
    "        \n",
    "        return f'{self.parent_node.history()}\\n{self}'\n",
    "    \n",
    "    def plot(self, only_traj=False):\n",
    "        \n",
    "        if self.parent_node is None:\n",
    "            plt.plot(0,0,'xy')\n",
    "            plt.grid()\n",
    "            ax=plt.gca()\n",
    "            ax.set_aspect(1)\n",
    "            \n",
    "            \n",
    "        else:\n",
    "            self.parent_node.plot(only_traj)\n",
    "        \n",
    "        if not only_traj:\n",
    "            #plot orbit of current asteroid,\n",
    "            self.asteroid.plot(start=self.epoch)\n",
    "        \n",
    "        (rx, ry, rz), v = self.asteroid.rv(self.epoch)\n",
    "        plt.text(rx/AU2km,ry/AU2km, f'{self.len_of_chain()}')\n",
    "        \n",
    "        #plot current approach trajectory\n",
    "        if self.parent_node is not None:\n",
    "            self.approach_orbit.plot(start=self.parent_node.epoch, end=self.epoch)\n",
    "        "
   ]
  },
  {
   "cell_type": "markdown",
   "metadata": {},
   "source": [
    "Define the starting point of the trajectory"
   ]
  },
  {
   "cell_type": "code",
   "execution_count": 25,
   "metadata": {},
   "outputs": [
    {
     "data": {
      "text/plain": [
       "Earth"
      ]
     },
     "execution_count": 25,
     "metadata": {},
     "output_type": "execute_result"
    }
   ],
   "source": [
    "launch_epoch = 58676.40\n",
    "rv_earth = earth.rv(epoch = launch_epoch)\n",
    "earth_initial = Orbit(name='Earth', index=-1) # index convention defined in orbit.py\n",
    "earth_initial.from_rv(launch_epoch, *rv_earth)\n",
    "earth_initial"
   ]
  },
  {
   "cell_type": "code",
   "execution_count": 26,
   "metadata": {},
   "outputs": [
    {
     "data": {
      "text/plain": [
       "58676.4"
      ]
     },
     "execution_count": 26,
     "metadata": {},
     "output_type": "execute_result"
    }
   ],
   "source": [
    "earth_initial.epoch0"
   ]
  },
  {
   "cell_type": "code",
   "execution_count": 27,
   "metadata": {},
   "outputs": [
    {
     "data": {
      "text/plain": [
       "(array([ 1.42695135e+08,  4.41616304e+07, -8.56875097e+02]),\n",
       " array([-9.29222730e+00,  2.83451663e+01, -4.25131856e-04]))"
      ]
     },
     "execution_count": 27,
     "metadata": {},
     "output_type": "execute_result"
    }
   ],
   "source": [
    "earth_initial.rv(epoch=58767)  # solved with kepler's equation"
   ]
  },
  {
   "cell_type": "markdown",
   "metadata": {},
   "source": [
    "Create the initial node"
   ]
  },
  {
   "cell_type": "code",
   "execution_count": 28,
   "metadata": {},
   "outputs": [],
   "source": [
    "#epoch, index, approach_orbit=None, parent=None\n",
    "start_node = Node(launch_epoch, index=-1, approach_orbit=earth_initial, parent=None)\n",
    "start_node.cost = 0.0\n",
    "start_node.maneuvers = []"
   ]
  },
  {
   "cell_type": "code",
   "execution_count": 29,
   "metadata": {},
   "outputs": [
    {
     "data": {
      "text/plain": [
       "(0, -0.0)"
      ]
     },
     "execution_count": 29,
     "metadata": {},
     "output_type": "execute_result"
    }
   ],
   "source": [
    "# we can query the standard stuff also about the root node\n",
    "start_node.len_of_chain(), start_node.get_priority()"
   ]
  },
  {
   "cell_type": "code",
   "execution_count": 30,
   "metadata": {},
   "outputs": [
    {
     "data": {
      "text/plain": [
       "<matplotlib.legend.Legend at 0x12ac61e52e8>"
      ]
     },
     "execution_count": 30,
     "metadata": {},
     "output_type": "execute_result"
    },
    {
     "data": {
      "image/png": "[encoded data removed]",
      "text/plain": [
       "<Figure size 720x720 with 1 Axes>"
      ]
     },
     "metadata": {
      "needs_background": "light"
     },
     "output_type": "display_data"
    }
   ],
   "source": [
    "#PLOT!\n",
    "fig = plt.figure(figsize=(10,10))\n",
    "start_node.plot()\n",
    "plt.legend()\n",
    "ax = plt.gca()\n",
    "ax.legend(bbox_to_anchor=(1.35, 1))"
   ]
  },
  {
   "cell_type": "markdown",
   "metadata": {},
   "source": [
    "# Define the first node\n",
    "based on sequences found in russian paper"
   ]
  },
  {
   "cell_type": "code",
   "execution_count": 31,
   "metadata": {},
   "outputs": [],
   "source": [
    "first_node = start_node.create_next_node(target_ind=1057, target_epoch=58731.65)"
   ]
  },
  {
   "cell_type": "code",
   "execution_count": 32,
   "metadata": {},
   "outputs": [
    {
     "data": {
      "text/plain": [
       "(0.0, -0.0)"
      ]
     },
     "execution_count": 32,
     "metadata": {},
     "output_type": "execute_result"
    }
   ],
   "source": [
    "# get cost and priority\n",
    "first_node.cost, first_node.get_priority()"
   ]
  },
  {
   "cell_type": "code",
   "execution_count": 33,
   "metadata": {},
   "outputs": [
    {
     "name": "stdout",
     "output_type": "stream",
     "text": [
      "Epoch,         Index,    Name,\n",
      "\n",
      "MJD 58676.40,     -1,    Earth,\n",
      "MJD 58731.65,   1057,    '2006QV89',\n"
     ]
    }
   ],
   "source": [
    "print(first_node.history())"
   ]
  },
  {
   "cell_type": "code",
   "execution_count": 34,
   "metadata": {},
   "outputs": [
    {
     "data": {
      "text/plain": [
       "1"
      ]
     },
     "execution_count": 34,
     "metadata": {},
     "output_type": "execute_result"
    }
   ],
   "source": [
    "first_node.len_of_chain()"
   ]
  },
  {
   "cell_type": "code",
   "execution_count": 35,
   "metadata": {},
   "outputs": [
    {
     "data": {
      "text/plain": [
       "<matplotlib.legend.Legend at 0x12ac627c5c0>"
      ]
     },
     "execution_count": 35,
     "metadata": {},
     "output_type": "execute_result"
    },
    {
     "data": {
      "image/png": "[encoded data removed]",
      "text/plain": [
       "<Figure size 720x720 with 1 Axes>"
      ]
     },
     "metadata": {
      "needs_background": "light"
     },
     "output_type": "display_data"
    }
   ],
   "source": [
    "# PLOT\n",
    "fig = plt.figure(figsize=(10,10))\n",
    "first_node.plot() \n",
    "plt.legend()\n",
    "ax = plt.gca()\n",
    "ax.legend(bbox_to_anchor=(1.35, 1))"
   ]
  },
  {
   "cell_type": "code",
   "execution_count": null,
   "metadata": {},
   "outputs": [],
   "source": [
    "# PLOT\n",
    "fig = plt.figure(figsize=(10,10))\n",
    "first_node.plot(only_traj=True) \n",
    "plt.legend()\n",
    "ax = plt.gca()\n",
    "ax.legend(bbox_to_anchor=(1.35, 1))"
   ]
  },
  {
   "cell_type": "markdown",
   "metadata": {},
   "source": [
    "# second node"
   ]
  },
  {
   "cell_type": "code",
   "execution_count": null,
   "metadata": {},
   "outputs": [],
   "source": [
    "second_node = first_node.create_next_node(target_ind=1125, target_epoch=58801.45)"
   ]
  },
  {
   "cell_type": "code",
   "execution_count": null,
   "metadata": {},
   "outputs": [],
   "source": [
    "second_node.maneuvers"
   ]
  },
  {
   "cell_type": "code",
   "execution_count": null,
   "metadata": {},
   "outputs": [],
   "source": [
    "second_node.cost, second_node.get_priority()"
   ]
  },
  {
   "cell_type": "code",
   "execution_count": null,
   "metadata": {},
   "outputs": [],
   "source": [
    "fig = plt.figure(figsize=(10,10))\n",
    "second_node.plot() \n",
    "plt.legend()\n",
    "ax = plt.gca()\n",
    "ax.legend(bbox_to_anchor=(1.35, 1))"
   ]
  },
  {
   "cell_type": "markdown",
   "metadata": {},
   "source": [
    "# thrid node"
   ]
  },
  {
   "cell_type": "code",
   "execution_count": null,
   "metadata": {},
   "outputs": [],
   "source": [
    "third_node = second_node.create_next_node(target_ind=1328, target_epoch=58866.95)"
   ]
  },
  {
   "cell_type": "code",
   "execution_count": null,
   "metadata": {},
   "outputs": [],
   "source": [
    "print(third_node.history())"
   ]
  },
  {
   "cell_type": "code",
   "execution_count": null,
   "metadata": {},
   "outputs": [],
   "source": [
    "third_node.maneuvers"
   ]
  },
  {
   "cell_type": "code",
   "execution_count": null,
   "metadata": {},
   "outputs": [],
   "source": [
    "third_node.cost"
   ]
  },
  {
   "cell_type": "code",
   "execution_count": null,
   "metadata": {},
   "outputs": [],
   "source": [
    "fig = plt.figure(figsize=(10,10))\n",
    "third_node.plot() \n",
    "plt.legend()\n",
    "ax = plt.gca()\n",
    "ax.legend(bbox_to_anchor=(1.35, 1))"
   ]
  },
  {
   "cell_type": "code",
   "execution_count": null,
   "metadata": {},
   "outputs": [],
   "source": [
    "fig = plt.figure(figsize=(10,10))\n",
    "third_node.plot(only_traj=True) \n",
    "plt.legend()\n",
    "ax = plt.gca()\n",
    "ax.legend(bbox_to_anchor=(1.35, 1))"
   ]
  },
  {
   "cell_type": "markdown",
   "metadata": {},
   "source": [
    "# Try to define a sequence\n",
    "based on russian paper"
   ]
  },
  {
   "cell_type": "code",
   "execution_count": null,
   "metadata": {},
   "outputs": [],
   "source": [
    "t_list = [58731.65, 58801.45, 58866.95, 58973.95, 59084.55, 59119.45, 59221.75,59326.95, 59366.25,59419.55]\n",
    "ind_list = [1057, 1125, 1328, 1181, 937,1077, 1289, 1000, 601, 1376]"
   ]
  },
  {
   "cell_type": "code",
   "execution_count": null,
   "metadata": {},
   "outputs": [],
   "source": [
    "nodes = [start_node]"
   ]
  },
  {
   "cell_type": "code",
   "execution_count": null,
   "metadata": {},
   "outputs": [],
   "source": [
    "for i, ind in enumerate(ind_list):\n",
    "    new_node = nodes[-1].create_next_node(target_ind = ind, target_epoch=t_list[i])\n",
    "    nodes.append(new_node)\n",
    "    "
   ]
  },
  {
   "cell_type": "code",
   "execution_count": null,
   "metadata": {},
   "outputs": [],
   "source": [
    "nodes"
   ]
  },
  {
   "cell_type": "code",
   "execution_count": null,
   "metadata": {},
   "outputs": [],
   "source": [
    "final_node = nodes[-1]"
   ]
  },
  {
   "cell_type": "code",
   "execution_count": null,
   "metadata": {},
   "outputs": [],
   "source": [
    "fig = plt.figure(figsize=(10,10))\n",
    "final_node.plot()\n",
    "plt.legend()\n",
    "ax = plt.gca()\n",
    "ax.legend(bbox_to_anchor=(1.35, 1))\n"
   ]
  },
  {
   "cell_type": "code",
   "execution_count": null,
   "metadata": {},
   "outputs": [],
   "source": [
    "fig = plt.figure(figsize=(10,10))\n",
    "final_node.plot(only_traj=True)\n",
    "plt.legend()\n",
    "ax = plt.gca()\n",
    "ax.legend(bbox_to_anchor=(1.35, 1))"
   ]
  },
  {
   "cell_type": "code",
   "execution_count": null,
   "metadata": {},
   "outputs": [],
   "source": [
    "final_node.maneuvers"
   ]
  },
  {
   "cell_type": "code",
   "execution_count": null,
   "metadata": {},
   "outputs": [],
   "source": [
    "final_node.cost"
   ]
  },
  {
   "cell_type": "code",
   "execution_count": null,
   "metadata": {},
   "outputs": [],
   "source": [
    "final_node.get_priority(dv=False, mf=True, count=False)"
   ]
  },
  {
   "cell_type": "code",
   "execution_count": null,
   "metadata": {},
   "outputs": [],
   "source": [
    "ISP"
   ]
  },
  {
   "cell_type": "code",
   "execution_count": null,
   "metadata": {},
   "outputs": [],
   "source": [
    "np.exp(-final_node.cost/ISP)"
   ]
  },
  {
   "cell_type": "code",
   "execution_count": null,
   "metadata": {},
   "outputs": [],
   "source": [
    "final_node.maneuvers[0][1]"
   ]
  },
  {
   "cell_type": "code",
   "execution_count": null,
   "metadata": {},
   "outputs": [],
   "source": []
  },
  {
   "cell_type": "code",
   "execution_count": null,
   "metadata": {},
   "outputs": [],
   "source": []
  },
  {
   "cell_type": "code",
   "execution_count": null,
   "metadata": {},
   "outputs": [],
   "source": []
  }
 ],
 "metadata": {
  "kernelspec": {
   "display_name": "Python 3",
   "language": "python",
   "name": "python3"
  },
  "language_info": {
   "codemirror_mode": {
    "name": "ipython",
    "version": 3
   },
   "file_extension": ".py",
   "mimetype": "text/x-python",
   "name": "python",
   "nbconvert_exporter": "python",
   "pygments_lexer": "ipython3",
   "version": "3.7.3"
  }
 },
 "nbformat": 4,
 "nbformat_minor": 2
}
