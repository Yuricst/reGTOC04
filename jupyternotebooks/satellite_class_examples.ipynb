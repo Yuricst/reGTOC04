{
 "cells": [
  {
   "cell_type": "code",
   "execution_count": 1,
   "metadata": {},
   "outputs": [],
   "source": [
    "import numpy as np\n",
    "import scipy as sp\n",
    "import pandas as pd\n",
    "import scipy.optimize as opt\n",
    "from numpy import linalg as linalg\n",
    "from numpy.linalg import norm\n",
    "\n",
    "from satellite import Satellite\n",
    "from asteroid import Asteroid"
   ]
  },
  {
   "cell_type": "code",
   "execution_count": 2,
   "metadata": {},
   "outputs": [
    {
     "name": "stdout",
     "output_type": "stream",
     "text": [
      "*Asteroid Earth*\n",
      "  Epoch0 (MJD)  : 54000\n",
      "  a (AU)        : 0.9999880495325779\n",
      "  e_mag         : 0.0167168116316\n",
      "  i (deg)       : 0.0008854353079653999\n",
      "  LAN (deg)     : 175.40647696473\n",
      "  argPeri (deg) : 287.61577546182\n",
      "  meanAnom (deg): 257.60683707535\n"
     ]
    }
   ],
   "source": [
    "ep0 = 54000\n",
    "ep1 = 54003\n",
    "earth = Asteroid('Earth',ep0,0.999988049532578, 1.671681163160e-2, 0.8854353079654e-3, 175.40647696473, 287.61577546182, 257.60683707535)\n",
    "print(earth.details())"
   ]
  },
  {
   "cell_type": "code",
   "execution_count": null,
   "metadata": {},
   "outputs": [],
   "source": []
  },
  {
   "cell_type": "code",
   "execution_count": 3,
   "metadata": {},
   "outputs": [],
   "source": [
    "sat = Satellite()"
   ]
  },
  {
   "cell_type": "code",
   "execution_count": null,
   "metadata": {},
   "outputs": [],
   "source": []
  },
  {
   "cell_type": "code",
   "execution_count": 4,
   "metadata": {},
   "outputs": [],
   "source": [
    "sat.set_state(ep0,*earth.get_rv(epoch = ep0))"
   ]
  },
  {
   "cell_type": "code",
   "execution_count": 5,
   "metadata": {},
   "outputs": [
    {
     "data": {
      "text/plain": [
       "Spacecraft Scaramouche"
      ]
     },
     "execution_count": 5,
     "metadata": {},
     "output_type": "execute_result"
    }
   ],
   "source": [
    "sat"
   ]
  },
  {
   "cell_type": "code",
   "execution_count": 6,
   "metadata": {
    "scrolled": true
   },
   "outputs": [
    {
     "name": "stdout",
     "output_type": "stream",
     "text": [
      "*Spacecraft Scaramouche*\n",
      "  Epoch0 (MJD)  : 54000\n",
      "  a (AU)        : 0.9999880495325777\n",
      "  e_mag         : 0.016716811631599663\n",
      "  i (deg)       : 0.0008854353079653586\n",
      "  LAN (deg)     : 175.40647696473007\n",
      "  argPeri (deg) : 287.6157754618199\n",
      "  meanAnom (deg): 31.45418029906358\n"
     ]
    }
   ],
   "source": [
    "print(sat.details())"
   ]
  },
  {
   "cell_type": "code",
   "execution_count": 7,
   "metadata": {},
   "outputs": [
    {
     "name": "stdout",
     "output_type": "stream",
     "text": [
      "*Asteroid Earth*\n",
      "  Epoch0 (MJD)  : 54000\n",
      "  a (AU)        : 0.9999880495325779\n",
      "  e_mag         : 0.0167168116316\n",
      "  i (deg)       : 0.0008854353079653999\n",
      "  LAN (deg)     : 175.40647696473\n",
      "  argPeri (deg) : 287.61577546182\n",
      "  meanAnom (deg): 257.60683707535\n"
     ]
    }
   ],
   "source": [
    "print(earth.details())"
   ]
  },
  {
   "cell_type": "code",
   "execution_count": null,
   "metadata": {},
   "outputs": [],
   "source": []
  },
  {
   "cell_type": "code",
   "execution_count": 8,
   "metadata": {},
   "outputs": [
    {
     "data": {
      "text/plain": [
       "Asteroid Earth2"
      ]
     },
     "execution_count": 8,
     "metadata": {},
     "output_type": "execute_result"
    }
   ],
   "source": [
    "earth2 = Asteroid('Earth2',sat.epoch, sat.a/sat.u_AU, sat.e_mag, sat.i*180/np.pi, sat.LAN*180/np.pi, sat.omega*180/np.pi, sat.M0*180/np.pi)\n",
    "earth2"
   ]
  },
  {
   "cell_type": "code",
   "execution_count": 9,
   "metadata": {},
   "outputs": [
    {
     "name": "stdout",
     "output_type": "stream",
     "text": [
      "*Asteroid Earth2*\n",
      "  Epoch0 (MJD)  : 54000\n",
      "  a (AU)        : 0.9999880495325777\n",
      "  e_mag         : 0.016716811631599663\n",
      "  i (deg)       : 0.0008854353079653586\n",
      "  LAN (deg)     : 175.4064769647301\n",
      "  argPeri (deg) : 287.61577546181996\n",
      "  meanAnom (deg): 31.45418029906358\n"
     ]
    }
   ],
   "source": [
    "print(earth2.details())"
   ]
  },
  {
   "cell_type": "code",
   "execution_count": 10,
   "metadata": {},
   "outputs": [
    {
     "data": {
      "text/plain": [
       "(array([-1.05175505e+08,  1.03376966e+08, -1.46226274e+03]),\n",
       " array([-2.13667714e+01, -2.13571049e+01,  3.55431706e-04]))"
      ]
     },
     "execution_count": 10,
     "metadata": {},
     "output_type": "execute_result"
    }
   ],
   "source": [
    "sat.r, sat.v"
   ]
  },
  {
   "cell_type": "code",
   "execution_count": 11,
   "metadata": {},
   "outputs": [
    {
     "data": {
      "text/plain": [
       "(array([-1.05175505e+08,  1.03376966e+08, -1.46226274e+03]),\n",
       " array([-2.13667714e+01, -2.13571049e+01,  3.55431706e-04]))"
      ]
     },
     "execution_count": 11,
     "metadata": {},
     "output_type": "execute_result"
    }
   ],
   "source": [
    "earth.get_rv(ep0)"
   ]
  },
  {
   "cell_type": "code",
   "execution_count": 12,
   "metadata": {},
   "outputs": [
    {
     "data": {
      "text/plain": [
       "(array([-1.35975996e+08, -6.35094672e+07,  1.14659612e+03]),\n",
       " array([ 1.21209819e+01, -2.71024246e+01,  4.02487747e-04]))"
      ]
     },
     "execution_count": 12,
     "metadata": {},
     "output_type": "execute_result"
    }
   ],
   "source": [
    "earth2.get_rv(ep0)"
   ]
  },
  {
   "cell_type": "code",
   "execution_count": 13,
   "metadata": {},
   "outputs": [
    {
     "data": {
      "text/plain": [
       "257.60683707535"
      ]
     },
     "execution_count": 13,
     "metadata": {},
     "output_type": "execute_result"
    }
   ],
   "source": [
    "earth.get_meanAnom(ep0)*180/np.pi"
   ]
  },
  {
   "cell_type": "code",
   "execution_count": 14,
   "metadata": {},
   "outputs": [
    {
     "data": {
      "text/plain": [
       "(4.496087482613457, 0.5489790097345941)"
      ]
     },
     "execution_count": 14,
     "metadata": {},
     "output_type": "execute_result"
    }
   ],
   "source": [
    "earth.get_meanAnom(ep0), sat.M0"
   ]
  },
  {
   "cell_type": "code",
   "execution_count": 15,
   "metadata": {},
   "outputs": [
    {
     "data": {
      "text/plain": [
       "(4.479820726328422, 0.5578279650154122)"
      ]
     },
     "execution_count": 15,
     "metadata": {},
     "output_type": "execute_result"
    }
   ],
   "source": [
    "earth.get_eccAnom(ep0), sat.eccAnom"
   ]
  },
  {
   "cell_type": "code",
   "execution_count": 16,
   "metadata": {},
   "outputs": [
    {
     "data": {
      "text/plain": [
       "(0.5667406874773921, 0.5667406874773927)"
      ]
     },
     "execution_count": 16,
     "metadata": {},
     "output_type": "execute_result"
    }
   ],
   "source": [
    "(earth.get_trueAnom(ep0), sat.theta)"
   ]
  },
  {
   "cell_type": "code",
   "execution_count": 17,
   "metadata": {},
   "outputs": [],
   "source": [
    "er, ev = earth.get_rv(ep0)"
   ]
  },
  {
   "cell_type": "code",
   "execution_count": 18,
   "metadata": {},
   "outputs": [
    {
     "data": {
      "text/plain": [
       "array([5.51375256e+03, 6.86265430e+04, 4.45507628e+09])"
      ]
     },
     "execution_count": 18,
     "metadata": {},
     "output_type": "execute_result"
    }
   ],
   "source": [
    "np.cross(er, ev)"
   ]
  },
  {
   "cell_type": "code",
   "execution_count": 19,
   "metadata": {},
   "outputs": [
    {
     "data": {
      "text/plain": [
       "array([5.51375256e+03, 6.86265430e+04, 4.45507628e+09])"
      ]
     },
     "execution_count": 19,
     "metadata": {},
     "output_type": "execute_result"
    }
   ],
   "source": [
    "sat.h"
   ]
  },
  {
   "cell_type": "code",
   "execution_count": 20,
   "metadata": {},
   "outputs": [
    {
     "data": {
      "text/plain": [
       "5.0376486913438345"
      ]
     },
     "execution_count": 20,
     "metadata": {},
     "output_type": "execute_result"
    }
   ],
   "source": [
    "earth.get_eccAnom(ep0)+ sat.eccAnom"
   ]
  },
  {
   "cell_type": "code",
   "execution_count": 21,
   "metadata": {
    "scrolled": true
   },
   "outputs": [
    {
     "data": {
      "text/plain": [
       "(256.6748205938496, 31.961188089754458)"
      ]
     },
     "execution_count": 21,
     "metadata": {},
     "output_type": "execute_result"
    }
   ],
   "source": [
    "earth.get_eccAnom(ep0)*180/np.pi, sat.eccAnom*180/np.pi"
   ]
  },
  {
   "cell_type": "code",
   "execution_count": 22,
   "metadata": {},
   "outputs": [
    {
     "data": {
      "text/plain": [
       "(4.479820726328422, 0.5578279650154123)"
      ]
     },
     "execution_count": 22,
     "metadata": {},
     "output_type": "execute_result"
    }
   ],
   "source": [
    "earth.get_eccAnom(ep0), sat.get_eccAnom(ep0)"
   ]
  },
  {
   "cell_type": "code",
   "execution_count": null,
   "metadata": {},
   "outputs": [],
   "source": []
  },
  {
   "cell_type": "code",
   "execution_count": 23,
   "metadata": {},
   "outputs": [
    {
     "data": {
      "text/plain": [
       "(4.496087482613457, 0.5489790097345941)"
      ]
     },
     "execution_count": 23,
     "metadata": {},
     "output_type": "execute_result"
    }
   ],
   "source": [
    "earth.get_meanAnom(ep0), sat.get_meanAnom(ep0)"
   ]
  },
  {
   "cell_type": "code",
   "execution_count": 24,
   "metadata": {},
   "outputs": [
    {
     "name": "stdout",
     "output_type": "stream",
     "text": [
      "[-1.05175505e+08  1.03376966e+08 -1.46226274e+03]\n",
      "[-2.13667714e+01 -2.13571049e+01  3.55431706e-04]\n",
      "\n"
     ]
    }
   ],
   "source": [
    "print(earth.get_r(epoch=ep0))\n",
    "print(earth.get_v(epoch=ep0))\n",
    "print()"
   ]
  },
  {
   "cell_type": "code",
   "execution_count": 25,
   "metadata": {},
   "outputs": [
    {
     "data": {
      "text/plain": [
       "array([-1.35975996e+08, -6.35094672e+07,  1.14659612e+03])"
      ]
     },
     "execution_count": 25,
     "metadata": {},
     "output_type": "execute_result"
    }
   ],
   "source": [
    "sat.get_r(epoch=ep0)"
   ]
  },
  {
   "cell_type": "code",
   "execution_count": null,
   "metadata": {},
   "outputs": [],
   "source": []
  },
  {
   "cell_type": "code",
   "execution_count": null,
   "metadata": {},
   "outputs": [],
   "source": []
  },
  {
   "cell_type": "code",
   "execution_count": null,
   "metadata": {},
   "outputs": [],
   "source": []
  }
 ],
 "metadata": {
  "kernelspec": {
   "display_name": "Python 3",
   "language": "python",
   "name": "python3"
  },
  "language_info": {
   "codemirror_mode": {
    "name": "ipython",
    "version": 3
   },
   "file_extension": ".py",
   "mimetype": "text/x-python",
   "name": "python",
   "nbconvert_exporter": "python",
   "pygments_lexer": "ipython3",
   "version": "3.6.7"
  }
 },
 "nbformat": 4,
 "nbformat_minor": 2
}
