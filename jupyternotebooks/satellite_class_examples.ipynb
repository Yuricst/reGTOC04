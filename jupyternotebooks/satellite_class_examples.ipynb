{
 "cells": [
  {
   "cell_type": "code",
   "execution_count": 5,
   "metadata": {},
   "outputs": [],
   "source": [
    "import numpy as np\n",
    "import scipy as sp\n",
    "import pandas as pd\n",
    "import scipy.optimize as opt\n",
    "from numpy import linalg as linalg\n",
    "from numpy.linalg import norm\n",
    "\n",
    "from satellite import Satellite"
   ]
  },
  {
   "cell_type": "code",
   "execution_count": 6,
   "metadata": {},
   "outputs": [],
   "source": [
    "sat = Satellite()"
   ]
  },
  {
   "cell_type": "code",
   "execution_count": 7,
   "metadata": {},
   "outputs": [],
   "source": [
    "sat.set_state(1,[1.5e8,0,0],[0,(sat.mu/1.5e8)**0.5,1])"
   ]
  },
  {
   "cell_type": "code",
   "execution_count": 8,
   "metadata": {},
   "outputs": [
    {
     "name": "stdout",
     "output_type": "stream",
     "text": [
      "[ 0.00000000e+00 -1.50000000e+08  4.46171111e+09]\n",
      "[ 1.5e+08  0.0e+00 -0.0e+00]\n"
     ]
    },
    {
     "data": {
      "text/plain": [
       "{'epoch': 1,\n",
       " 'h': array([ 0.00000000e+00, -1.50000000e+08,  4.46171111e+09]),\n",
       " 'i': 0.033606731034743195,\n",
       " 'e_vec': array([ 0.00113026,  0.        , -0.        ]),\n",
       " 'e': 0.0011302632969421023,\n",
       " 'LAN': 6.283185307179586,\n",
       " 'omega': 6.283185307179586,\n",
       " 'theta': 6.283185307179586,\n",
       " 'eccAnom': -2.4465268143506514e-16,\n",
       " 'meanAnom': -2.443761594887406e-16}"
      ]
     },
     "execution_count": 8,
     "metadata": {},
     "output_type": "execute_result"
    }
   ],
   "source": [
    "sat.state_to_orb_elements(*sat.get_state())"
   ]
  },
  {
   "cell_type": "code",
   "execution_count": null,
   "metadata": {},
   "outputs": [],
   "source": []
  },
  {
   "cell_type": "code",
   "execution_count": null,
   "metadata": {},
   "outputs": [],
   "source": []
  }
 ],
 "metadata": {
  "kernelspec": {
   "display_name": "Python 3",
   "language": "python",
   "name": "python3"
  },
  "language_info": {
   "codemirror_mode": {
    "name": "ipython",
    "version": 3
   },
   "file_extension": ".py",
   "mimetype": "text/x-python",
   "name": "python",
   "nbconvert_exporter": "python",
   "pygments_lexer": "ipython3",
   "version": "3.6.7"
  }
 },
 "nbformat": 4,
 "nbformat_minor": 2
}
