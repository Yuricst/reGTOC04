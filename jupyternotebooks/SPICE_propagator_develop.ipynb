{
 "cells": [
  {
   "cell_type": "markdown",
   "metadata": {},
   "source": [
    "# Development platform for SPICE-based orbit propagator\n",
    "\n",
    "2019/11/07\n",
    "\n",
    "### Developed with problem for GTOC4 in mind:\n",
    "- allow mutliple bodies to be propagated at the same time (e.g. multiple asteroids and spacecraft)\n",
    "- compute relative distance between specified bodies during propagation)"
   ]
  },
  {
   "cell_type": "code",
   "execution_count": 112,
   "metadata": {},
   "outputs": [],
   "source": [
    "import numpy as np\n",
    "import spiceypy as spice\n",
    "import pandas as pd\n",
    "import matplotlib.pyplot as plt\n",
    "from mpl_toolkits.mplot3d import axes3d"
   ]
  },
  {
   "cell_type": "code",
   "execution_count": 113,
   "metadata": {},
   "outputs": [],
   "source": [
    "# load spice kernels\n",
    "spice.furnsh('../spice/naif0012.tls')\n",
    "\n",
    "# define gravitational parameters\n",
    "MU = 1.32712440018*10**11   # sun's gravitational parameter [km^3/s^2]\n",
    "AU = 1.49597870691*10**8    # astronomical unit [AU] to [km]\n",
    "g0 = 9.80665                # gravitational acceleration [m/s^2]\n"
   ]
  },
  {
   "cell_type": "code",
   "execution_count": 114,
   "metadata": {},
   "outputs": [
    {
     "name": "stdout",
     "output_type": "stream",
     "text": [
      "(1436, 8)\n"
     ]
    },
    {
     "data": {
      "text/html": [
       "<div>\n",
       "<style scoped>\n",
       "    .dataframe tbody tr th:only-of-type {\n",
       "        vertical-align: middle;\n",
       "    }\n",
       "\n",
       "    .dataframe tbody tr th {\n",
       "        vertical-align: top;\n",
       "    }\n",
       "\n",
       "    .dataframe thead th {\n",
       "        text-align: right;\n",
       "    }\n",
       "</style>\n",
       "<table border=\"1\" class=\"dataframe\">\n",
       "  <thead>\n",
       "    <tr style=\"text-align: right;\">\n",
       "      <th></th>\n",
       "      <th>Name</th>\n",
       "      <th>Epoch</th>\n",
       "      <th>a</th>\n",
       "      <th>e</th>\n",
       "      <th>i</th>\n",
       "      <th>LAN</th>\n",
       "      <th>omega</th>\n",
       "      <th>M0</th>\n",
       "    </tr>\n",
       "  </thead>\n",
       "  <tbody>\n",
       "    <tr>\n",
       "      <td>0</td>\n",
       "      <td>'1580'</td>\n",
       "      <td>54800.0</td>\n",
       "      <td>2.196803</td>\n",
       "      <td>0.487683</td>\n",
       "      <td>52.090794</td>\n",
       "      <td>62.324795</td>\n",
       "      <td>159.539839</td>\n",
       "      <td>3.521687</td>\n",
       "    </tr>\n",
       "    <tr>\n",
       "      <td>1</td>\n",
       "      <td>'1620'</td>\n",
       "      <td>54800.0</td>\n",
       "      <td>1.245551</td>\n",
       "      <td>0.335511</td>\n",
       "      <td>13.337693</td>\n",
       "      <td>337.266017</td>\n",
       "      <td>276.806539</td>\n",
       "      <td>136.950031</td>\n",
       "    </tr>\n",
       "    <tr>\n",
       "      <td>2</td>\n",
       "      <td>'1943'</td>\n",
       "      <td>54800.0</td>\n",
       "      <td>1.430317</td>\n",
       "      <td>0.255816</td>\n",
       "      <td>8.704065</td>\n",
       "      <td>246.401915</td>\n",
       "      <td>338.253875</td>\n",
       "      <td>288.405238</td>\n",
       "    </tr>\n",
       "  </tbody>\n",
       "</table>\n",
       "</div>"
      ],
      "text/plain": [
       "     Name    Epoch         a         e          i         LAN       omega  \\\n",
       "0  '1580'  54800.0  2.196803  0.487683  52.090794   62.324795  159.539839   \n",
       "1  '1620'  54800.0  1.245551  0.335511  13.337693  337.266017  276.806539   \n",
       "2  '1943'  54800.0  1.430317  0.255816   8.704065  246.401915  338.253875   \n",
       "\n",
       "           M0  \n",
       "0    3.521687  \n",
       "1  136.950031  \n",
       "2  288.405238  "
      ]
     },
     "execution_count": 114,
     "metadata": {},
     "output_type": "execute_result"
    }
   ],
   "source": [
    "# import ephemerides data from GTOC4 into pandas dataframe\n",
    "elmnts = ['Name','Epoch','a','e','i','LAN','periap','theta']\n",
    "df = pd.read_fwf('../gtoc4_problem_data.txt', sep='\\t', skiprows=1)\n",
    "# reassign column names\n",
    "df.columns =  ['Name','Epoch','a','e','i','LAN','omega','M0']\n",
    "num,tmp = df.shape\n",
    "print(df.shape)\n",
    "df.head(3)"
   ]
  },
  {
   "cell_type": "code",
   "execution_count": 115,
   "metadata": {},
   "outputs": [
    {
     "data": {
      "text/plain": [
       "(10, 8)"
      ]
     },
     "execution_count": 115,
     "metadata": {},
     "output_type": "execute_result"
    }
   ],
   "source": [
    "# create smaller pandas dataframe to test propagator\n",
    "\n",
    "# FIXME : create here spacecraft dataframe, then merge?\n",
    "#  df1.merge(df2, left_on='lkey', right_on='rkey')\n",
    "el_pd1 = df[0:10]\n",
    "el_pd1.shape"
   ]
  },
  {
   "cell_type": "code",
   "execution_count": 116,
   "metadata": {},
   "outputs": [],
   "source": [
    "# conversion between MJD and JD\n",
    "# (Data given in MJD, SPICE deals with JD)\n",
    "def _mjd2jd(mjd):\n",
    "    \"\"\"function converts MJD (Modified Julian Date) to JD (Julian Date)\n",
    "    Args:\n",
    "        mjd (float or lst): float or list of floats of ephemerides in MJD to be converted to JD\n",
    "    Returns:\n",
    "        (float or float): float or list of ephemeris equivalent in JD\n",
    "    \"\"\"\n",
    "    if type(mjd) == list: \n",
    "        jd = [el + 2400000.5 for el in mjd]\n",
    "    else:\n",
    "        jd = mjd + 2400000.5\n",
    "    return jd\n",
    "\n",
    "def _jd2mjd(jd):\n",
    "    \"\"\"function converts JD (Julian Date) to MJD (Modified Julian Date)\n",
    "    Args:\n",
    "        mjd (float or lst): float or list of floats of ephemerides in JD to be converted to MJD\n",
    "    Returns:\n",
    "        (float or float): float or list of ephemeris equivalent in MJD\n",
    "    \"\"\"\n",
    "    if type(mjd) == list: \n",
    "        mjd = [el - 2400000.5 for el in jd]\n",
    "    else:\n",
    "        mjd = jd - 2400000.5\n",
    "    return mjd\n"
   ]
  },
  {
   "cell_type": "code",
   "execution_count": 117,
   "metadata": {},
   "outputs": [],
   "source": [
    "# propagator ... could also make a separate function just to compute dr? or an option?\n",
    "def propagate_spice(etr_mjd, eldf, MU=1.32712440018*10**11, step=1000):\n",
    "    \"\"\"\n",
    "    SPICE-powered orbit propagator developed for GTOC4\n",
    "    Args:\n",
    "        et_MJD (lst): list including start and end time of propagation (in MJD)\n",
    "        step (float): steps of propagation\n",
    "        eldf (pandas df): pandas dataframe of orbital elements to be propagated (expect spacecraft to be first row)\n",
    "    Returns:\n",
    "        FIXME : need to output: dr, points\n",
    "    \"\"\"\n",
    "    \n",
    "    # convert time range from MJD to JD\n",
    "    etr_jd = _mjd2jd((etr_mjd))\n",
    "    # create time array\n",
    "    etrsteps = [x * (etr_jd[1] - etr_jd[1])/step + etr_jd[0] for x in range(step)]\n",
    "    # store number of bodies to propagate\n",
    "    [bdy,tmp] = eldf.shape\n",
    "    # initialize 3d numpy array to store state-vectors\n",
    "        # first:  number of arrays = number of bodies to propagate\n",
    "        # second: rows = timesteps\n",
    "        # third:  columns = x, y, z, vx, vy, vz\n",
    "    sv = np.zeros((bdy, step, 6))\n",
    "    \n",
    "    # propagate over time array\n",
    "    for i in range(step):\n",
    "        # prepare orbital elements for spice.conics() function\n",
    "        for j in range(bdy):\n",
    "            # convert orbital elements to spice-format\n",
    "            rp = eldf.at[j,'a'] * (1 - eldf.at[j,'e'])\n",
    "            elts = np.array([rp, eldf.at[j,'e'], np.rad2deg(eldf.at[j,'i']), np.rad2deg(eldf.at[j,'LAN']), np.rad2deg(eldf.at[j,'omega']), np.rad2deg(eldf.at[j,'M0']), _mjd2jd(eldf.at[j,'Epoch']), MU])\n",
    "            tmp = spice.conics(elts, etrsteps[i])\n",
    "            \n",
    "            # FIXME - store state-vector of one object into sv 3d numpy array\n",
    "            for k in range(6):\n",
    "                sv[(j,i,k)] = tmp[k]\n",
    "        \n",
    "        #state = spice.conics(elts, etrsteps[i])\n",
    "    \n",
    "    return sv\n",
    "    "
   ]
  },
  {
   "cell_type": "code",
   "execution_count": 124,
   "metadata": {},
   "outputs": [
    {
     "name": "stdout",
     "output_type": "stream",
     "text": [
      "Current time-interval size with 1000 steps : 0.18 [days]\n"
     ]
    },
    {
     "data": {
      "text/plain": [
       "array([[[-1.11493103e+00, -3.00768060e+00,  1.72780556e-01,\n",
       "          1.46400998e+05, -2.68319847e+04, -7.87837631e+03],\n",
       "        [-1.11493103e+00, -3.00768060e+00,  1.72780556e-01,\n",
       "          1.46400998e+05, -2.68319847e+04, -7.87837631e+03],\n",
       "        [-1.11493103e+00, -3.00768060e+00,  1.72780556e-01,\n",
       "          1.46400998e+05, -2.68319847e+04, -7.87837631e+03],\n",
       "        ...,\n",
       "        [-1.11493103e+00, -3.00768060e+00,  1.72780556e-01,\n",
       "          1.46400998e+05, -2.68319847e+04, -7.87837631e+03],\n",
       "        [-1.11493103e+00, -3.00768060e+00,  1.72780556e-01,\n",
       "          1.46400998e+05, -2.68319847e+04, -7.87837631e+03],\n",
       "        [-1.11493103e+00, -3.00768060e+00,  1.72780556e-01,\n",
       "          1.46400998e+05, -2.68319847e+04, -7.87837631e+03]],\n",
       "\n",
       "       [[-1.11493103e+00, -3.00768060e+00,  1.72780556e-01,\n",
       "          1.46400998e+05, -2.68319847e+04, -7.87837631e+03],\n",
       "        [-1.11493103e+00, -3.00768060e+00,  1.72780556e-01,\n",
       "          1.46400998e+05, -2.68319847e+04, -7.87837631e+03],\n",
       "        [-1.11493103e+00, -3.00768060e+00,  1.72780556e-01,\n",
       "          1.46400998e+05, -2.68319847e+04, -7.87837631e+03],\n",
       "        ...,\n",
       "        [-1.11493103e+00, -3.00768060e+00,  1.72780556e-01,\n",
       "          1.46400998e+05, -2.68319847e+04, -7.87837631e+03],\n",
       "        [-1.11493103e+00, -3.00768060e+00,  1.72780556e-01,\n",
       "          1.46400998e+05, -2.68319847e+04, -7.87837631e+03],\n",
       "        [-1.11493103e+00, -3.00768060e+00,  1.72780556e-01,\n",
       "          1.46400998e+05, -2.68319847e+04, -7.87837631e+03]],\n",
       "\n",
       "       [[-1.11493103e+00, -3.00768060e+00,  1.72780556e-01,\n",
       "          1.46400998e+05, -2.68319847e+04, -7.87837631e+03],\n",
       "        [-1.11493103e+00, -3.00768060e+00,  1.72780556e-01,\n",
       "          1.46400998e+05, -2.68319847e+04, -7.87837631e+03],\n",
       "        [-1.11493103e+00, -3.00768060e+00,  1.72780556e-01,\n",
       "          1.46400998e+05, -2.68319847e+04, -7.87837631e+03],\n",
       "        ...,\n",
       "        [-1.11493103e+00, -3.00768060e+00,  1.72780556e-01,\n",
       "          1.46400998e+05, -2.68319847e+04, -7.87837631e+03],\n",
       "        [-1.11493103e+00, -3.00768060e+00,  1.72780556e-01,\n",
       "          1.46400998e+05, -2.68319847e+04, -7.87837631e+03],\n",
       "        [-1.11493103e+00, -3.00768060e+00,  1.72780556e-01,\n",
       "          1.46400998e+05, -2.68319847e+04, -7.87837631e+03]]])"
      ]
     },
     "execution_count": 124,
     "metadata": {},
     "output_type": "execute_result"
    }
   ],
   "source": [
    "# test run function with el_pd1\n",
    "# propagation range time\n",
    "etr_utc = ['Jan 1, 2015', 'Jun 30, 2015']  # currently working with 6 months ~ 182 days\n",
    "etr_MJD = [spice.str2et(etr_utc[0]), spice.str2et(etr_utc[1])]\n",
    "# set time-step in seconds\n",
    "steps = 1000\n",
    "dt = (spice.str2et(etr_utc[1]) - spice.str2et(etr_utc[0]))/steps\n",
    "dt_day = dt/(60*60*24)\n",
    "print(f'Current time-interval size with {steps} steps : {dt_day:.4} [days]')\n",
    "\n",
    "# call function to propagate\n",
    "sv = propagate_spice(etr_MJD, el_pd1, MU=1.32712440018*10**11, step=steps)\n",
    "\n",
    "sv[[0,0,0]]"
   ]
  },
  {
   "cell_type": "code",
   "execution_count": null,
   "metadata": {},
   "outputs": [],
   "source": [
    "# plot propagated trajectories\n",
    "fig = plt.figure(figsize=(9, 9))\n",
    "ax = fig.add_subplot(111, projection = '3d')\n",
    "\n",
    "# store number of bodies to propagate\n",
    "[bdy,tmp] = eldf.shape\n",
    "\n",
    "ax.plot(sv_prop_Earth[0], sv_prop_Earth[1], sv_prop_Earth[2])\n",
    "\n",
    "plt.title('SpicePy Cassini Position Example from Jun 20, 2004 to Dec 1, 2005')\n",
    "plt.show()"
   ]
  }
 ],
 "metadata": {
  "kernelspec": {
   "display_name": "Python 3",
   "language": "python",
   "name": "python3"
  },
  "language_info": {
   "codemirror_mode": {
    "name": "ipython",
    "version": 3
   },
   "file_extension": ".py",
   "mimetype": "text/x-python",
   "name": "python",
   "nbconvert_exporter": "python",
   "pygments_lexer": "ipython3",
   "version": "3.7.3"
  }
 },
 "nbformat": 4,
 "nbformat_minor": 2
}
