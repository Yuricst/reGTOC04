{
 "cells": [
  {
   "cell_type": "code",
   "execution_count": 1,
   "metadata": {},
   "outputs": [],
   "source": [
    "import numpy as np\n",
    "import logging\n",
    "import warnings\n",
    "\n",
    "from lambert import *\n",
    "\n",
    "\n",
    "\n"
   ]
  },
  {
   "cell_type": "code",
   "execution_count": 2,
   "metadata": {},
   "outputs": [],
   "source": [
    "# initial and final position vectors [km]\n",
    "r_in = np.array([5000, 10000, 2100])\n",
    "r_fn = np.array([-14600, 2500, 7000])\n",
    "\n",
    "# time of flight [s]\n",
    "dt = 3600\n",
    "\n",
    "# gravitational parameter [km^3/s^2]\n",
    "mu_E = 398600\n",
    "\n",
    "# solve Lambert problem\n",
    "#v1, v2 = lb.lambert(r1=r_in, r2=r_fn, tof=dt, mu=mu_E, grade='pro')\n",
    "# obtain orbital elements\n",
    "#elements = oc.sv2el(r_in,v1,mu_E)"
   ]
  },
  {
   "cell_type": "code",
   "execution_count": 3,
   "metadata": {},
   "outputs": [
    {
     "name": "stderr",
     "output_type": "stream",
     "text": [
      "INFO:root:========================= LAMBERT'S PROBLEM =========================\n",
      "INFO:root:Transfering from r1: [ 5000 10000  2100] [km]\n",
      "INFO:root:              to r2: [-14600   2500   7000] [km]\n",
      "INFO:root:  in time of flight: 0.041666666666666664 [days]\n",
      "INFO:root:=====================================================================\n",
      "INFO:root:dtheta: 100.29252420729621\n",
      "INFO:root:Transfer trajectory is an ellipse; z = 1.53985443450707\n",
      "INFO:root:=========================== SOLUTION ===========================\n",
      "INFO:root:Velocity at r1: [-5.99249464  1.92536342  3.24563653] [km/s]\n",
      "INFO:root:velocity at r2: [-3.31246031 -4.19661731 -0.38528762] [km/s]\n",
      "INFO:root:================================================================\n"
     ]
    }
   ],
   "source": [
    "# by using the warnings catcher, we can get rid of all the excessive warnings\n",
    "# infact, if the logging level is set at WARN, none of the info level details are printed either.\n",
    "\n",
    "logging.basicConfig(level = logging.INFO)\n",
    "\n",
    "with warnings.catch_warnings():\n",
    "    warnings.simplefilter(\"ignore\")\n",
    "    v1, v2 = lambert(r1=r_in, r2=r_fn, tof=dt, mu=mu_E, grade='pro')"
   ]
  },
  {
   "cell_type": "code",
   "execution_count": 4,
   "metadata": {},
   "outputs": [
    {
     "data": {
      "text/plain": [
       "(array([-5.99249464,  1.92536342,  3.24563653]),\n",
       " array([-3.31246031, -4.19661731, -0.38528762]))"
      ]
     },
     "execution_count": 4,
     "metadata": {},
     "output_type": "execute_result"
    }
   ],
   "source": [
    "v1, v2"
   ]
  },
  {
   "cell_type": "code",
   "execution_count": null,
   "metadata": {},
   "outputs": [],
   "source": []
  }
 ],
 "metadata": {
  "kernelspec": {
   "display_name": "Python 3",
   "language": "python",
   "name": "python3"
  },
  "language_info": {
   "codemirror_mode": {
    "name": "ipython",
    "version": 3
   },
   "file_extension": ".py",
   "mimetype": "text/x-python",
   "name": "python",
   "nbconvert_exporter": "python",
   "pygments_lexer": "ipython3",
   "version": "3.7.3"
  }
 },
 "nbformat": 4,
 "nbformat_minor": 2
}
