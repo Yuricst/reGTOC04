{
 "cells": [
  {
   "cell_type": "markdown",
   "metadata": {},
   "source": [
    "# Testing lambert.py \n",
    "\n",
    "Built in-house, using Bate's formulation for Lambert Problem\n",
    "\n",
    "Last updated 2019.11.16"
   ]
  },
  {
   "cell_type": "code",
   "execution_count": 1,
   "metadata": {},
   "outputs": [],
   "source": [
    "import numpy as np\n",
    "import logging\n",
    "import warnings\n",
    "from numpy.linalg import norm\n",
    "import matplotlib.pyplot as plt\n",
    "from mpl_toolkits.mplot3d import axes3d\n",
    "from lambert import *\n"
   ]
  },
  {
   "cell_type": "code",
   "execution_count": 2,
   "metadata": {},
   "outputs": [],
   "source": [
    "# initial and final position vectors [km]\n",
    "r1 = np.array([5000, 10000, 2100])\n",
    "r2 = np.array([-14600, 2500, 7000])\n",
    "\n",
    "# time of flight [s]\n",
    "dt = 3600\n",
    "\n",
    "# gravitational parameter [km^3/s^2]\n",
    "mu_E = 398600\n"
   ]
  },
  {
   "cell_type": "code",
   "execution_count": null,
   "metadata": {},
   "outputs": [
    {
     "name": "stderr",
     "output_type": "stream",
     "text": [
      "INFO:root:========================= LAMBERT'S PROBLEM =========================\n",
      "INFO:root:Transfering from r1: [ 5000 10000  2100] [km]\n",
      "INFO:root:              to r2: [-14600   2500   7000] [km]\n"
     ]
    }
   ],
   "source": [
    "# by using the warnings catcher, we can get rid of all the excessive warnings\n",
    "# infact, if the logging level is set at WARN, none of the info level details are printed either.\n",
    "\n",
    "logging.basicConfig(level = logging.INFO)\n",
    "\n",
    "with warnings.catch_warnings():\n",
    "    warnings.simplefilter(\"ignore\")\n",
    "    v1, v2 = lambert(r1=r1, r2=r2, tof=dt, mu=mu_E, grade='pro')"
   ]
  },
  {
   "cell_type": "code",
   "execution_count": null,
   "metadata": {},
   "outputs": [],
   "source": [
    "v1, v2"
   ]
  },
  {
   "cell_type": "markdown",
   "metadata": {},
   "source": [
    "### Try plotting the transfer leg"
   ]
  },
  {
   "cell_type": "code",
   "execution_count": null,
   "metadata": {},
   "outputs": [],
   "source": [
    "elements = sv2el(r1,v1,mu_E)\n"
   ]
  },
  {
   "cell_type": "code",
   "execution_count": null,
   "metadata": {},
   "outputs": [],
   "source": [
    "def plot_transfer_nb(r1,v1,r2,v2,mu):\n",
    "    \"\"\"Function plots transfer orbits resulting from solving Lambert's problem\n",
    "    Args:\n",
    "        r1 (lst): initial position vector [km]\n",
    "        v1 (lst): initial velocity vector [km]\n",
    "        r2 (lst): final position vector [km/s]\n",
    "        v2 (lst): final velocity vector [km/s]\n",
    "        mu (float): gravitational parameter [km^3/s^2]\n",
    "    Returns:\n",
    "        (tuple): tupple of position vector and a 3D plot of transfer\n",
    "    \"\"\"\n",
    "    # fetch orbital elements at initial and final positions\n",
    "    el1 = sv2el(r1,v1,mu)\n",
    "    el2 = sv2el(r2,v2,mu)\n",
    "\n",
    "    # define plotting step-size\n",
    "    n = 200\n",
    "\n",
    "    # create array of theta\n",
    "    if el2.get('theta') > el1.get('theta'):\n",
    "        theta_range = np.linspace(el1.get('theta'),el2.get('theta'),n)\n",
    "    else:\n",
    "        theta_range = np.linspace(el2.get('theta'),el1.get('theta'),n)\n",
    "\n",
    "    # initialize position vector arrays\n",
    "    r_PF = np.zeros((3,n))\n",
    "    r_GEC = np.zeros((3,n))\n",
    "    # compute perifocal and GEC positions\n",
    "    for i in range(n):\n",
    "        tmpPF1 = el1.get('h')**2/(mu*(1 + el1.get('e')*np.cos(theta_range[i]))) * np.array([[np.cos(theta_range[i]), np.sin(theta_range[i]), 0]])\n",
    "        tmpPF1 = np.transpose(tmpPF1)\n",
    "        tmpPF2 = np.dot(rotMat(-el2.get('omega'),3), tmpPF1)\n",
    "        tmpPF3 = np.dot(rotMat(-el2.get('i'),1),  tmpPF2)\n",
    "        tmpGEC = np.dot(rotMat(-el2.get('RAAN'),3), tmpPF3)\n",
    "\n",
    "        # store computed values\n",
    "        for j in range(3):\n",
    "            r_PF[j,i]  = tmpPF1[j]\n",
    "            r_GEC[j,i] = tmpGEC[j]\n",
    "\n",
    "    return r_PF, r_GEC"
   ]
  },
  {
   "cell_type": "code",
   "execution_count": null,
   "metadata": {},
   "outputs": [],
   "source": [
    "rPF, rGEC = plot_transfer(r1,v1,r2,v2,mu_E)\n"
   ]
  },
  {
   "cell_type": "code",
   "execution_count": null,
   "metadata": {},
   "outputs": [],
   "source": [
    "# create PF-frame plot\n",
    "# plot statistical data of asteroids: inclination vs. semi-major axis\n",
    "fig = plt.figure(figsize=(8, 8))\n",
    "ax = fig.add_subplot()\n",
    "plt.plot(rPF[0,:], rPF[1,:],'x')\n",
    "#plt.title(f'Asteroids distribution in {spice.et2utc(et0,\"c\",0)}')\n",
    "plt.xlabel('x [km]')\n",
    "plt.ylabel('y [km]')\n",
    "#plt.legend()\n",
    "plt.show()"
   ]
  },
  {
   "cell_type": "code",
   "execution_count": null,
   "metadata": {},
   "outputs": [],
   "source": []
  }
 ],
 "metadata": {
  "kernelspec": {
   "display_name": "Python 3",
   "language": "python",
   "name": "python3"
  },
  "language_info": {
   "codemirror_mode": {
    "name": "ipython",
    "version": 3
   },
   "file_extension": ".py",
   "mimetype": "text/x-python",
   "name": "python",
   "nbconvert_exporter": "python",
   "pygments_lexer": "ipython3",
   "version": "3.7.3"
  }
 },
 "nbformat": 4,
 "nbformat_minor": 2
}
