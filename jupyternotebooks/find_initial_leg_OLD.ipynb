{
 "cells": [
  {
   "cell_type": "markdown",
   "metadata": {},
   "source": [
    "# Initial leg (Earth -> first Asteroid) simulation\n",
    "\n",
    "Calculation of initial leg going from Earth to first asteroid\n",
    "\n",
    "Strategy is:\n",
    "- For varying launch date + time of flight\n",
    "- Solve Lambert from Earth to all asteroids\n",
    "- Fetch those that have acceptable C3 (compare Lambert's v2 with Earth's velocity about the sun)\n"
   ]
  },
  {
   "cell_type": "code",
   "execution_count": 1,
   "metadata": {},
   "outputs": [
    {
     "ename": "SyntaxError",
     "evalue": "invalid syntax (lambert.py, line 237)",
     "output_type": "error",
     "traceback": [
      "Traceback \u001b[1;36m(most recent call last)\u001b[0m:\n",
      "  File \u001b[0;32m\"C:\\Users\\yurio\\Anaconda3\\lib\\site-packages\\IPython\\core\\interactiveshell.py\"\u001b[0m, line \u001b[0;32m3296\u001b[0m, in \u001b[0;35mrun_code\u001b[0m\n    exec(code_obj, self.user_global_ns, self.user_ns)\n",
      "\u001b[1;36m  File \u001b[1;32m\"<ipython-input-1-a637d09d1359>\"\u001b[1;36m, line \u001b[1;32m15\u001b[1;36m, in \u001b[1;35m<module>\u001b[1;36m\u001b[0m\n\u001b[1;33m    from lambert import lambert as lambert_bate\u001b[0m\n",
      "\u001b[1;36m  File \u001b[1;32m\"C:\\Users\\yurio\\Documents\\GitHub\\reGTOC04\\jupyternotebooks\\lambert.py\"\u001b[1;36m, line \u001b[1;32m237\u001b[0m\n\u001b[1;33m    [i, e, a, RAAN, omega, theta =\u001b[0m\n\u001b[1;37m                                 ^\u001b[0m\n\u001b[1;31mSyntaxError\u001b[0m\u001b[1;31m:\u001b[0m invalid syntax\n"
     ]
    }
   ],
   "source": [
    "import numpy as np\n",
    "from numpy.linalg import norm\n",
    "import scipy as sp\n",
    "import pandas as pd\n",
    "import scipy.optimize as opt\n",
    "import random\n",
    "\n",
    "import logging\n",
    "\n",
    "import matplotlib.pyplot as plt\n",
    "from mpl_toolkits.mplot3d import axes3d\n",
    "\n",
    "from asteroid import Asteroid\n",
    "from lambert_izzo import lambert as lambert_izzo\n",
    "from lambert import lambert as lambert_bate\n",
    "\n",
    "from satellite import Satellite"
   ]
  },
  {
   "cell_type": "code",
   "execution_count": null,
   "metadata": {},
   "outputs": [],
   "source": [
    "df = pd.read_csv('../gtoc4_problem_data.txt', skiprows=2,delimiter= '\\s+',header=None)\n",
    "df.columns = ['Name','Epoch','a','e','i','LAN','omega','M0']\n",
    "df.head()"
   ]
  },
  {
   "cell_type": "code",
   "execution_count": 14,
   "metadata": {},
   "outputs": [
    {
     "name": "stdout",
     "output_type": "stream",
     "text": [
      "*Asteroid '2006HY50'*\n",
      "  Epoch0 (MJD)  : 54800.0\n",
      "  a (AU)        : 2.58527077384406\n",
      "  e_mag         : 0.6283443417071826\n",
      "  i (deg)       : 25.68377607051675\n",
      "  LAN (deg)     : 44.67871108526802\n",
      "  argPeri (deg) : 77.67636454937323\n",
      "  meanAnom (deg): 243.55517571104423\n"
     ]
    }
   ],
   "source": [
    "# load all asteroids into a list \n",
    "asteroids = [None,]*len(df)\n",
    "\n",
    "# create asteroids\n",
    "for i in range(len(df)):\n",
    "    asteroids[i] = Asteroid(*tuple(df.loc[i].values))\n",
    "\n",
    "print(asteroids[1008].details())"
   ]
  },
  {
   "cell_type": "code",
   "execution_count": 36,
   "metadata": {},
   "outputs": [
    {
     "name": "stdout",
     "output_type": "stream",
     "text": [
      "*Asteroid Earth*\n",
      "  Epoch0 (MJD)  : 54000\n",
      "  a (AU)        : 0.9999880495325779\n",
      "  e_mag         : 0.0167168116316\n",
      "  i (deg)       : 0.0008854353079653999\n",
      "  LAN (deg)     : 175.40647696473\n",
      "  argPeri (deg) : 287.61577546182\n",
      "  meanAnom (deg): 257.60683707535\n"
     ]
    }
   ],
   "source": [
    "# create Earth\n",
    "earth = Asteroid('Earth',54000,0.999988049532578, 1.671681163160e-2, 0.8854353079654e-3, 175.40647696473, 287.61577546182, 257.60683707535)\n",
    "print(earth.details())"
   ]
  },
  {
   "cell_type": "code",
   "execution_count": 10,
   "metadata": {},
   "outputs": [
    {
     "data": {
      "text/plain": [
       "array([58500, 58510, 58520, 58530, 58540, 58550, 58560, 58570, 58580,\n",
       "       58590, 58600, 58610, 58620, 58630, 58640, 58650, 58660, 58670,\n",
       "       58680, 58690, 58700, 58710, 58720, 58730, 58740, 58750, 58760,\n",
       "       58770, 58780, 58790, 58800, 58810, 58820, 58830, 58840, 58850,\n",
       "       58860, 58870, 58880, 58890, 58900, 58910, 58920, 58930, 58940,\n",
       "       58950, 58960, 58970, 58980, 58990])"
      ]
     },
     "execution_count": 10,
     "metadata": {},
     "output_type": "execute_result"
    }
   ],
   "source": [
    "# for each launch\n",
    "launch_step = 10\n",
    "earliest_launch_date = 57023\n",
    "latest_launch_date = 61041+10\n",
    "earliest_launch_date = 58500\n",
    "latest_launch_date = 59000\n",
    "\n",
    "launch_dates = np.arange(earliest_launch_date, latest_launch_date, step=launch_step) # in MJD\n",
    "\n",
    "launch_dates"
   ]
  },
  {
   "cell_type": "code",
   "execution_count": 32,
   "metadata": {},
   "outputs": [
    {
     "name": "stdout",
     "output_type": "stream",
     "text": [
      "[20 25 30 35 40 45 50 55 60]\n",
      "45\n",
      "*Asteroid '10165'*\n",
      "  Epoch0 (MJD)  : 54800.0\n",
      "  a (AU)        : 1.23461461079123\n",
      "  e_mag         : 0.5038366352714467\n",
      "  i (deg)       : 23.896329545285074\n",
      "  LAN (deg)     : 312.48108332201423\n",
      "  argPeri (deg) : 348.3898209583281\n",
      "  meanAnom (deg): 244.8915150595011\n",
      "Lambert solutions: v1 52.30304645159013 [km/s], v2 61.924807824548395 [km/s]\n",
      "Earth velocity: 30.161093357621848 [km/s]\n"
     ]
    },
    {
     "data": {
      "text/plain": [
       "43.90316544180548"
      ]
     },
     "execution_count": 32,
     "metadata": {},
     "output_type": "execute_result"
    }
   ],
   "source": [
    "# try for 1 asteroid at 1 launch date and 1 tof\n",
    "\n",
    "#logging.basicConfig(level=logging.INFO)\n",
    "# debug, info, warn error critical\n",
    "\n",
    "# define time of flight\n",
    "tof_vals = np.arange(20,64,step=5)\n",
    "print(tof_vals)\n",
    "\n",
    "ld = launch_dates[0]\n",
    "tof = tof_vals[5]\n",
    "print(tof)\n",
    "ast = asteroids[44]\n",
    "print(ast.details())\n",
    "\n",
    "\n",
    "r1 = earth.get_r(epoch=ld)\n",
    "r2 = ast.get_r(epoch=ld+tof)\n",
    "\n",
    "u_day = 86400 #seconds\n",
    "\n",
    "mu = 1.32712440018e+11\n",
    "\n",
    "v1, v2 = lambert_izzo(mu, r1, r2,tof=tof*u_day, M=0, return_='short')\n",
    "print(f'Lambert solutions: v1 {norm(v1)} [km/s], v2 {norm(v2)} [km/s]')\n",
    "vinf = norm(v1 - earth.get_v(epoch=ld))\n",
    "print(f'Earth velocity: {norm(earth.get_v(epoch=ld))} [km/s]')\n",
    "vinf"
   ]
  },
  {
   "cell_type": "code",
   "execution_count": 39,
   "metadata": {},
   "outputs": [
    {
     "name": "stdout",
     "output_type": "stream",
     "text": [
      "*Spacecraft Scaramouche*\n",
      "  Epoch0 (MJD)  : 58500\n",
      "  a (AU)        : 0.9999880495325784\n",
      "  e_mag         : 0.016716811631600312\n",
      "  i (deg)       : 0.0008854353079653586\n",
      "  LAN (deg)     : 175.40647696473007\n",
      "  argPeri (deg) : 287.6157754618194\n",
      "  meanAnom (deg): 40.705569518519034\n",
      "(array([-8.69859359e+07, -1.23723388e+08,  2.01350701e+03]), array([ 2.38837865e+01, -1.72452396e+01,  2.36088413e-04]))\n",
      "(array([-1.20999552e+08,  8.47338709e+07, -1.15549785e+03]), array([-1.75726894e+01, -2.45131014e+01,  3.99351382e-04]))\n"
     ]
    }
   ],
   "source": [
    "# create spacecraft\n",
    "sat = Satellite()\n",
    "sat.set_state(ld, *earth.get_rv(epoch=ld))\n",
    "\n",
    "print(sat.details())  # these should be (and indeed are) all the same with Earth elements except for mean Anomaly\n",
    "\n",
    "print(sat.get_rv(epoch=ld))\n",
    "print(earth.get_rv(epoch=ld))\n",
    "#### THESE SHOULD MATCH!!!! why do they not????"
   ]
  },
  {
   "cell_type": "code",
   "execution_count": 19,
   "metadata": {},
   "outputs": [
    {
     "name": "stderr",
     "output_type": "stream",
     "text": [
      "INFO:root:========================= LAMBERT'S PROBLEM =========================\n",
      "INFO:root:Transfering from r1: [ 8.88099826e+04 -1.51900741e+08  7.67777168e+06] [km]\n",
      "INFO:root:              to r2: [-5.194324e+06 -5.215249e+05  1.465447e+08] [km]\n",
      "INFO:root:  in time of flight: 55.25 [days]\n",
      "INFO:root:=====================================================================\n",
      "INFO:root:dtheta: 273.0943042486311\n",
      "INFO:root:Transfer trajectory is a hyperbolla; z = -4.953823527875737\n",
      "INFO:root:=========================== SOLUTION ===========================\n",
      "INFO:root:Velocity at r1: [  0.45130012  47.20540456 -15.89368466] [km/s]\n",
      "INFO:root:velocity at r2: [ -1.68221302 -14.17363454  48.39819387] [km/s]\n",
      "INFO:root:================================================================\n"
     ]
    },
    {
     "name": "stdout",
     "output_type": "stream",
     "text": [
      "*Asteroid '2006QV89'*\n",
      "  Epoch0 (MJD)  : 54800.0\n",
      "  a (AU)        : 1.19172698984184\n",
      "  e_mag         : 0.2243140875310219\n",
      "  i (deg)       : 1.0697676665227522\n",
      "  LAN (deg)     : 166.12046966888747\n",
      "  argPeri (deg) : 236.63764002189566\n",
      "  meanAnom (deg): 219.75410172645084\n",
      "[-5.194324e+06 -5.215249e+05  1.465447e+08]\n",
      "******\n",
      "49.81127486532781\n",
      "50.45896280235327\n",
      "29.292880306707804\n",
      "[-28.55066038  43.0872589  -15.89358533]\n",
      "54.07641022002988\n",
      "******\n",
      "49.81127486532776\n",
      "50.458962802353234\n",
      "29.292880306707804\n",
      "[-28.55066038  43.0872589  -15.89358533]\n",
      "54.07641022002983\n"
     ]
    }
   ],
   "source": [
    "logging.basicConfig(level=logging.INFO)\n",
    "\n",
    "# debug, info, warn error critical\n",
    "\n",
    "ld = 58676.40\n",
    "tof = 58731.65-ld\n",
    "ast = asteroids[1057]\n",
    "\n",
    "print(ast.details())\n",
    "\n",
    "\n",
    "r1 = np.array([8.88099826e+04, -1.51900741e+08,  7.67777168e+06])#earth.get_r(epoch=ld)\n",
    "r2 = np.array([-5.194324e+06,-5.215249e+05,1.465447e+08])#ast.get_r(epoch=ld+tof)\n",
    "\n",
    "print(r2)\n",
    "\n",
    "u_day = 86400 #seconds\n",
    "\n",
    "mu = 1.32712440018e+11\n",
    "\n",
    "v1, v2 = lambert_izzo(mu, r1, r2, tof=tof*u_day, M=0, return_='short')\n",
    "\n",
    "print(\"******\")\n",
    "\n",
    "\n",
    "print(norm(v1))\n",
    "print(norm(v2))\n",
    "print(norm(earth.get_v(epoch=ld)))\n",
    "print(v1-earth.get_v(epoch=ld))\n",
    "\n",
    "vinf = norm(v1-earth.get_v(epoch=ld))\n",
    "\n",
    "print(norm(vinf))\n",
    "\n",
    "print(\"******\")\n",
    "\n",
    "v1, v2 = lambert_bate(mu, r1, r2, tof=tof*u_day, grade='pro')\n",
    "\n",
    "\n",
    "print(norm(v1))\n",
    "print(norm(v2))\n",
    "print(norm(earth.get_v(epoch=ld)))\n",
    "print(v1-earth.get_v(epoch=ld))\n",
    "\n",
    "vinf = norm(v1-earth.get_v(epoch=ld))\n",
    "\n",
    "print(norm(vinf))"
   ]
  },
  {
   "cell_type": "code",
   "execution_count": 35,
   "metadata": {},
   "outputs": [
    {
     "data": {
      "text/plain": [
       "0.034802930935512386"
      ]
     },
     "execution_count": 35,
     "metadata": {},
     "output_type": "execute_result"
    }
   ],
   "source": [
    "norm([r2[0], r2[1]])/1.5e8"
   ]
  },
  {
   "cell_type": "code",
   "execution_count": 36,
   "metadata": {},
   "outputs": [
    {
     "data": {
      "text/plain": [
       "1.0126717797448728"
      ]
     },
     "execution_count": 36,
     "metadata": {},
     "output_type": "execute_result"
    }
   ],
   "source": [
    "norm([r1[0], r1[1]])/1.5e8"
   ]
  },
  {
   "cell_type": "code",
   "execution_count": null,
   "metadata": {},
   "outputs": [],
   "source": [
    "tof"
   ]
  },
  {
   "cell_type": "code",
   "execution_count": 31,
   "metadata": {},
   "outputs": [
    {
     "data": {
      "text/plain": [
       "(array([ 8.88099826e+04, -1.51900741e+08,  7.67777168e+06]),\n",
       " array([-5.194324e+06, -5.215249e+05,  1.465447e+08]))"
      ]
     },
     "execution_count": 31,
     "metadata": {},
     "output_type": "execute_result"
    }
   ],
   "source": [
    "r1, r2"
   ]
  },
  {
   "cell_type": "code",
   "execution_count": 32,
   "metadata": {},
   "outputs": [
    {
     "data": {
      "image/png": "[encoded data removed]",
      "text/plain": [
       "<Figure size 432x288 with 1 Axes>"
      ]
     },
     "metadata": {
      "needs_background": "light"
     },
     "output_type": "display_data"
    }
   ],
   "source": [
    "plt.plot(0, 0,'.')\n",
    "plt.plot(r1[0]/1.5e8, r1[1]/1.5e8,'o')\n",
    "plt.plot(r2[0]/1.5e8, r2[1]/1.5e8,'x')\n",
    "plt.grid()\n",
    "ax = plt.gca()\n",
    "ax.set_aspect('equal','box')"
   ]
  },
  {
   "cell_type": "code",
   "execution_count": null,
   "metadata": {},
   "outputs": [],
   "source": [
    "vinf"
   ]
  },
  {
   "cell_type": "code",
   "execution_count": null,
   "metadata": {
    "scrolled": true
   },
   "outputs": [],
   "source": [
    "u_day = 86400 #seconds\n",
    "mu = 1.32712440018e+11\n",
    "\n",
    "vinf_max = 4.1\n",
    "    \n",
    "ind = 0\n",
    "for ld in launch_dates:\n",
    "    for tof in tof_vals:\n",
    "        for ast in asteroids:\n",
    "\n",
    "            r1 = earth.get_r(epoch=ld)\n",
    "            r2 = ast.get_r(epoch=ld+tof)\n",
    "            try:\n",
    "                v1, v2 = lambert(mu, r1, r2,tof=tof*u_day,M=0, return_='short')\n",
    "            except:\n",
    "                continue\n",
    "            vinf = norm(v1-earth.get_v(epoch=ld))\n",
    "            \n",
    "            if vinf<vinf_max:\n",
    "                \n",
    "                print(f'{ind}: date: {ld}, tof: {tof}, ast: {ast}, vinf: {vinf}')\n",
    "                ind += 1\n",
    "\n"
   ]
  },
  {
   "cell_type": "code",
   "execution_count": null,
   "metadata": {},
   "outputs": [],
   "source": []
  }
 ],
 "metadata": {
  "kernelspec": {
   "display_name": "Python 3",
   "language": "python",
   "name": "python3"
  },
  "language_info": {
   "codemirror_mode": {
    "name": "ipython",
    "version": 3
   },
   "file_extension": ".py",
   "mimetype": "text/x-python",
   "name": "python",
   "nbconvert_exporter": "python",
   "pygments_lexer": "ipython3",
   "version": "3.7.3"
  }
 },
 "nbformat": 4,
 "nbformat_minor": 2
}
